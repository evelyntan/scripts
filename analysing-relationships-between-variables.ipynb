{
 "cells": [
  {
   "cell_type": "markdown",
   "id": "67c2da63-caf9-4592-82fb-0b6aa19a8495",
   "metadata": {},
   "source": [
    "# Step 1\n",
    "## What is the relationship between communication (words per minute + word variance) and performance (match outcome + kills per minute)"
   ]
  },
  {
   "cell_type": "code",
   "execution_count": 2,
   "id": "e5d4ea75-cb2d-4041-8ea3-2c0c4cca9985",
   "metadata": {},
   "outputs": [
    {
     "data": {
      "text/html": [
       "<div>\n",
       "<style scoped>\n",
       "    .dataframe tbody tr th:only-of-type {\n",
       "        vertical-align: middle;\n",
       "    }\n",
       "\n",
       "    .dataframe tbody tr th {\n",
       "        vertical-align: top;\n",
       "    }\n",
       "\n",
       "    .dataframe thead th {\n",
       "        text-align: right;\n",
       "    }\n",
       "</style>\n",
       "<table border=\"1\" class=\"dataframe\">\n",
       "  <thead>\n",
       "    <tr style=\"text-align: right;\">\n",
       "      <th></th>\n",
       "      <th>team_number</th>\n",
       "      <th>team_size</th>\n",
       "      <th>match_id</th>\n",
       "      <th>outcome</th>\n",
       "      <th>match_outcome</th>\n",
       "      <th>duration_seconds</th>\n",
       "      <th>match_duration</th>\n",
       "      <th>kills_per_minute</th>\n",
       "      <th>mean_wpm</th>\n",
       "      <th>variance_wpm</th>\n",
       "      <th>...</th>\n",
       "      <th>cohesion_50_percent</th>\n",
       "      <th>cohesion_75_percent</th>\n",
       "      <th>cohesion_max</th>\n",
       "      <th>satisfaction_mean</th>\n",
       "      <th>satisfaction_std</th>\n",
       "      <th>satisfaction_min</th>\n",
       "      <th>satisfaction_25_percent</th>\n",
       "      <th>satisfaction_50_percent</th>\n",
       "      <th>satisfaction_75_percent</th>\n",
       "      <th>satisfaction_max</th>\n",
       "    </tr>\n",
       "  </thead>\n",
       "  <tbody>\n",
       "    <tr>\n",
       "      <th>0</th>\n",
       "      <td>1</td>\n",
       "      <td>3</td>\n",
       "      <td>5056494058</td>\n",
       "      <td>l</td>\n",
       "      <td>0</td>\n",
       "      <td>1509.8</td>\n",
       "      <td>25:15:00</td>\n",
       "      <td>0.713</td>\n",
       "      <td>71.615385</td>\n",
       "      <td>1152.159763</td>\n",
       "      <td>...</td>\n",
       "      <td>6.000000</td>\n",
       "      <td>6.250000</td>\n",
       "      <td>6.500000</td>\n",
       "      <td>6.166667</td>\n",
       "      <td>0.803638</td>\n",
       "      <td>5.25</td>\n",
       "      <td>5.875</td>\n",
       "      <td>6.50</td>\n",
       "      <td>6.625</td>\n",
       "      <td>6.75</td>\n",
       "    </tr>\n",
       "    <tr>\n",
       "      <th>1</th>\n",
       "      <td>2</td>\n",
       "      <td>5</td>\n",
       "      <td>5064844365</td>\n",
       "      <td>w</td>\n",
       "      <td>1</td>\n",
       "      <td>1778.1</td>\n",
       "      <td>29:39:00</td>\n",
       "      <td>1.484</td>\n",
       "      <td>84.233333</td>\n",
       "      <td>803.912222</td>\n",
       "      <td>...</td>\n",
       "      <td>6.000000</td>\n",
       "      <td>6.000000</td>\n",
       "      <td>6.833333</td>\n",
       "      <td>6.700000</td>\n",
       "      <td>0.325960</td>\n",
       "      <td>6.25</td>\n",
       "      <td>6.500</td>\n",
       "      <td>6.75</td>\n",
       "      <td>7.000</td>\n",
       "      <td>7.00</td>\n",
       "    </tr>\n",
       "    <tr>\n",
       "      <th>2</th>\n",
       "      <td>3</td>\n",
       "      <td>3</td>\n",
       "      <td>5081077877</td>\n",
       "      <td>w</td>\n",
       "      <td>1</td>\n",
       "      <td>1599.8</td>\n",
       "      <td>26:40:00</td>\n",
       "      <td>0.862</td>\n",
       "      <td>114.666667</td>\n",
       "      <td>1561.111111</td>\n",
       "      <td>...</td>\n",
       "      <td>6.666667</td>\n",
       "      <td>6.750000</td>\n",
       "      <td>6.833333</td>\n",
       "      <td>6.916667</td>\n",
       "      <td>0.144338</td>\n",
       "      <td>6.75</td>\n",
       "      <td>6.875</td>\n",
       "      <td>7.00</td>\n",
       "      <td>7.000</td>\n",
       "      <td>7.00</td>\n",
       "    </tr>\n",
       "    <tr>\n",
       "      <th>3</th>\n",
       "      <td>4</td>\n",
       "      <td>5</td>\n",
       "      <td>5060243044</td>\n",
       "      <td>w</td>\n",
       "      <td>1</td>\n",
       "      <td>1388.6</td>\n",
       "      <td>23:08:00</td>\n",
       "      <td>1.470</td>\n",
       "      <td>100.500000</td>\n",
       "      <td>858.500000</td>\n",
       "      <td>...</td>\n",
       "      <td>5.833333</td>\n",
       "      <td>6.166667</td>\n",
       "      <td>6.166667</td>\n",
       "      <td>6.200000</td>\n",
       "      <td>0.647109</td>\n",
       "      <td>5.50</td>\n",
       "      <td>5.750</td>\n",
       "      <td>6.00</td>\n",
       "      <td>6.750</td>\n",
       "      <td>7.00</td>\n",
       "    </tr>\n",
       "    <tr>\n",
       "      <th>4</th>\n",
       "      <td>5</td>\n",
       "      <td>5</td>\n",
       "      <td>5062654604</td>\n",
       "      <td>l</td>\n",
       "      <td>1</td>\n",
       "      <td>1175.9</td>\n",
       "      <td>33:04:00</td>\n",
       "      <td>0.877</td>\n",
       "      <td>132.100000</td>\n",
       "      <td>1205.790000</td>\n",
       "      <td>...</td>\n",
       "      <td>6.833333</td>\n",
       "      <td>7.000000</td>\n",
       "      <td>7.000000</td>\n",
       "      <td>6.800000</td>\n",
       "      <td>0.447214</td>\n",
       "      <td>6.00</td>\n",
       "      <td>7.000</td>\n",
       "      <td>7.00</td>\n",
       "      <td>7.000</td>\n",
       "      <td>7.00</td>\n",
       "    </tr>\n",
       "  </tbody>\n",
       "</table>\n",
       "<p>5 rows × 134 columns</p>\n",
       "</div>"
      ],
      "text/plain": [
       "   team_number  team_size    match_id outcome  match_outcome  \\\n",
       "0            1          3  5056494058       l              0   \n",
       "1            2          5  5064844365       w              1   \n",
       "2            3          3  5081077877       w              1   \n",
       "3            4          5  5060243044       w              1   \n",
       "4            5          5  5062654604       l              1   \n",
       "\n",
       "   duration_seconds match_duration  kills_per_minute    mean_wpm  \\\n",
       "0            1509.8       25:15:00             0.713   71.615385   \n",
       "1            1778.1       29:39:00             1.484   84.233333   \n",
       "2            1599.8       26:40:00             0.862  114.666667   \n",
       "3            1388.6       23:08:00             1.470  100.500000   \n",
       "4            1175.9       33:04:00             0.877  132.100000   \n",
       "\n",
       "   variance_wpm  ...  cohesion_50_percent  cohesion_75_percent  cohesion_max  \\\n",
       "0   1152.159763  ...             6.000000             6.250000      6.500000   \n",
       "1    803.912222  ...             6.000000             6.000000      6.833333   \n",
       "2   1561.111111  ...             6.666667             6.750000      6.833333   \n",
       "3    858.500000  ...             5.833333             6.166667      6.166667   \n",
       "4   1205.790000  ...             6.833333             7.000000      7.000000   \n",
       "\n",
       "   satisfaction_mean  satisfaction_std  satisfaction_min  \\\n",
       "0           6.166667          0.803638              5.25   \n",
       "1           6.700000          0.325960              6.25   \n",
       "2           6.916667          0.144338              6.75   \n",
       "3           6.200000          0.647109              5.50   \n",
       "4           6.800000          0.447214              6.00   \n",
       "\n",
       "   satisfaction_25_percent  satisfaction_50_percent  satisfaction_75_percent  \\\n",
       "0                    5.875                     6.50                    6.625   \n",
       "1                    6.500                     6.75                    7.000   \n",
       "2                    6.875                     7.00                    7.000   \n",
       "3                    5.750                     6.00                    6.750   \n",
       "4                    7.000                     7.00                    7.000   \n",
       "\n",
       "   satisfaction_max  \n",
       "0              6.75  \n",
       "1              7.00  \n",
       "2              7.00  \n",
       "3              7.00  \n",
       "4              7.00  \n",
       "\n",
       "[5 rows x 134 columns]"
      ]
     },
     "execution_count": 2,
     "metadata": {},
     "output_type": "execute_result"
    }
   ],
   "source": [
    "# based on this tutorial : http://seaborn.pydata.org/tutorial/relational.html#relational-tutorial\n",
    "\n",
    "import numpy as np\n",
    "import pandas as pd \n",
    "import matplotlib.pyplot as plt\n",
    "import seaborn as sns\n",
    "import scipy.stats as stats\n",
    "\n",
    "mac_filename = '/Users/ett506/Documents/proj-league/data/full_team_log.csv'\n",
    "windows_filename = r\"D:\\Projects\\UG-league-project\\data\\full-summary-stats.csv\"\n",
    "\n",
    "# import the data\n",
    "full_summary_stats_df = pd.read_csv(mac_filename)\n",
    "\n",
    "full_summary_stats_df.head()"
   ]
  },
  {
   "cell_type": "code",
   "execution_count": 2,
   "id": "0eefc8b2-b65e-4090-b4f7-06094eb64418",
   "metadata": {},
   "outputs": [
    {
     "data": {
      "image/png": "[encoded data removed]",
      "text/plain": [
       "<Figure size 1296x576 with 1 Axes>"
      ]
     },
     "metadata": {
      "needs_background": "light"
     },
     "output_type": "display_data"
    }
   ],
   "source": [
    "plt.figure(figsize=(18,8))\n",
    "\n",
    "sns.barplot(data = full_summary_stats_df, x ='team_number', y = 'mean_wpm', order = full_summary_stats_df.sort_values('mean_wpm').team_number)\n",
    "\n",
    "plt.savefig('../graphs/mean_wpm_by_team.png')"
   ]
  },
  {
   "cell_type": "markdown",
   "id": "c1491496-0f27-4bb2-af69-b78d47caa986",
   "metadata": {},
   "source": [
    "*Visualise the relationship*\n"
   ]
  },
  {
   "cell_type": "code",
   "execution_count": 8,
   "id": "74699b55-2126-43e4-84c7-cca4bf70012c",
   "metadata": {},
   "outputs": [
    {
     "data": {
      "image/png": "[encoded data removed]",
      "text/plain": [
       "<Figure size 432x432 with 3 Axes>"
      ]
     },
     "metadata": {
      "needs_background": "light"
     },
     "output_type": "display_data"
    },
    {
     "data": {
      "image/png": "[encoded data removed]",
      "text/plain": [
       "<Figure size 432x432 with 3 Axes>"
      ]
     },
     "metadata": {
      "needs_background": "light"
     },
     "output_type": "display_data"
    }
   ],
   "source": [
    "# relationship between mean wpm and kpm\n",
    "ax1 = sns.jointplot(data = full_summary_stats_df, x = \"mean_wpm\", y = \"kills_per_minute\")\n",
    "#ax1.set(xlabel = \"mean Words per minute\", ylabel = \"mean Kills per minute\")\n",
    "#ax1.savefig(r\"../graphs/wpm-and-kpm.png\")\n",
    "\n",
    "# relationship between mean wpm and kpm\n",
    "ax1 = sns.jointplot(data = full_summary_stats_df, x = \"variance_wpm\", y = \"kills_per_minute\")\n",
    "#ax1.set(xlabel = \"mean Words per minute\", ylabel = \"mean Kills per minute\")\n",
    "#ax1.savefig(r\"../graphs/word-variance-and-kpm.png\")\n",
    "\n"
   ]
  },
  {
   "cell_type": "markdown",
   "id": "4c483f1c-3931-401c-9db2-e08693b02524",
   "metadata": {},
   "source": [
    "\n",
    "\n",
    "### words per minute and cohesion\n",
    "\n",
    "- kendall's tau:  0.24251629826966115\n",
    "- p-value:  0.015909837637913368\n",
    "- Significant correlation found\n"
   ]
  },
  {
   "cell_type": "code",
   "execution_count": 5,
   "id": "29a001ea-b29d-4a7a-a928-cd7244e09ac5",
   "metadata": {},
   "outputs": [
    {
     "data": {
      "image/png": "[encoded data removed]",
      "text/plain": [
       "<Figure size 432x432 with 3 Axes>"
      ]
     },
     "metadata": {
      "needs_background": "light"
     },
     "output_type": "display_data"
    }
   ],
   "source": [
    "# relationship between mean wpm and outcome\n",
    "ax1 = sns.jointplot(data = full_summary_stats_df, x = \"mean_wpm\", y = \"cohesion_mean\")\n",
    "#ax1.set(xlabel = \"mean Words per minute\", ylabel = \"mean Kills per minute\")\n",
    "\n",
    "plt.savefig('../graphs/wpm_cohesion_jointplot.png')"
   ]
  },
  {
   "cell_type": "markdown",
   "id": "3ec5994a-1d32-4f24-996e-98e650a58af4",
   "metadata": {},
   "source": [
    "### words per minute and outcome\n",
    "\n",
    "- correlation: 0.24653986735301064  \n",
    "- p-value: 0.09117353451824775\n",
    "- No significant correlation found\n"
   ]
  },
  {
   "cell_type": "code",
   "execution_count": 22,
   "id": "0b1408a8-8148-422c-9fbe-b49510665bb9",
   "metadata": {},
   "outputs": [
    {
     "data": {
      "image/png": "[encoded data removed]",
      "text/plain": [
       "<Figure size 360x360 with 1 Axes>"
      ]
     },
     "metadata": {
      "needs_background": "light"
     },
     "output_type": "display_data"
    }
   ],
   "source": [
    "wpm_outcome = sns.catplot(data = full_summary_stats_df, x = \"match_outcome\", y = \"mean_wpm\")"
   ]
  },
  {
   "cell_type": "code",
   "execution_count": 32,
   "id": "5048c9fa-a615-4b7a-a4b2-e4dd90829095",
   "metadata": {},
   "outputs": [
    {
     "name": "stdout",
     "output_type": "stream",
     "text": [
      "correlation: 0.24653986735301064  p-value: 0.09117353451824775\n",
      "No significant correlation found\n"
     ]
    }
   ],
   "source": [
    "x = full_summary_stats_df[\"match_outcome\"].values\n",
    "\n",
    "y = full_summary_stats_df[\"mean_wpm\"].values\n",
    "\n",
    "#calculate point-biserial correlation between mean wpm and match outcome\n",
    "biserial_cor = stats.pointbiserialr(x, y)\n",
    "print(\"correlation:\", biserial_cor[0], \" p-value:\", biserial_cor[1])\n",
    "\n",
    "if biserial_cor[1] < 0.05: \n",
    "    print(\"Significant correlation found\")\n",
    "    \n",
    "else: \n",
    "    print(\"No significant correlation found\")\n"
   ]
  },
  {
   "cell_type": "markdown",
   "id": "2e4a174f-8b12-448d-81f3-65c7a4db34b4",
   "metadata": {},
   "source": [
    "### wpm and satisfaction\n",
    "\n",
    "- Pearson's r:  0.25313088728303823\n",
    "- p-value:  0.08257975159359827\n",
    "- No significant correlation found"
   ]
  },
  {
   "cell_type": "code",
   "execution_count": 35,
   "id": "a3cc9450-a329-4ddc-b049-64ccb7e806c1",
   "metadata": {},
   "outputs": [
    {
     "name": "stdout",
     "output_type": "stream",
     "text": [
      "Pearson's r:  0.25313088728303823\n",
      "p-value:  0.08257975159359827\n",
      "No significant correlation found\n"
     ]
    }
   ],
   "source": [
    "# get column of interest\n",
    "mean_wpm_array = full_summary_stats_df[\"mean_wpm\"].values\n",
    "mean_satisfaction_array = full_summary_stats_df[\"satisfaction_mean\"].values\n",
    "\n",
    "# calculate Pearsons correlation with p value ; for wpm and kpm\n",
    "\n",
    "calculate_pearsons_r = scipy.stats.pearsonr(mean_wpm_array, mean_satisfaction_array)\n",
    "\n",
    "print(\"Pearson's r: \", calculate_pearsons_r[0])\n",
    "print(\"p-value: \", calculate_pearsons_r[1])\n",
    "\n",
    "if calculate_pearsons_r[1] < 0.05: \n",
    "    print(\"Significant correlation found\")\n",
    "    \n",
    "else: \n",
    "    print(\"No significant correlation found\")"
   ]
  },
  {
   "cell_type": "code",
   "execution_count": 7,
   "id": "118c1179-b2a8-43b1-a9d6-323ed0f389f7",
   "metadata": {},
   "outputs": [
    {
     "data": {
      "image/png": "[encoded data removed]",
      "text/plain": [
       "<Figure size 432x432 with 3 Axes>"
      ]
     },
     "metadata": {
      "needs_background": "light"
     },
     "output_type": "display_data"
    }
   ],
   "source": [
    "# relationship between mean wpm and outcome\n",
    "ax1 = sns.jointplot(data = full_summary_stats_df, x = \"mean_wpm\", y = \"satisfaction_mean\")\n",
    "#ax1.set(xlabel = \"mean Words per minute\", ylabel = \"mean Kills per minute\")\n",
    "\n",
    "plt.savefig('../graphs/wpm_satisfcation_jointplot.png')"
   ]
  },
  {
   "cell_type": "markdown",
   "id": "955217f6-1fb8-4f6d-8571-3db9e03b5dfb",
   "metadata": {},
   "source": [
    "### cohesion and outcome\n",
    "\n",
    "- correlation: 0.5617168989113088  \n",
    "- p-value: 3.266179136820155e-05\n",
    "- Significant correlation found"
   ]
  },
  {
   "cell_type": "code",
   "execution_count": 33,
   "id": "29e7c96f-6156-4dcc-9222-07d62fee8d27",
   "metadata": {},
   "outputs": [
    {
     "name": "stdout",
     "output_type": "stream",
     "text": [
      "correlation: 0.5617168989113088  p-value: 3.266179136820155e-05\n",
      "Significant correlation found\n"
     ]
    }
   ],
   "source": [
    "x = full_summary_stats_df[\"match_outcome\"].values\n",
    "\n",
    "y = full_summary_stats_df[\"cohesion_mean\"].values\n",
    "\n",
    "#calculate point-biserial correlation between mean wpm and match outcome\n",
    "biserial_cor = stats.pointbiserialr(x, y)\n",
    "print(\"correlation:\", biserial_cor[0], \" p-value:\", biserial_cor[1])\n",
    "\n",
    "if biserial_cor[1] < 0.05: \n",
    "    print(\"Significant correlation found\")\n",
    "    \n",
    "else: \n",
    "    print(\"No significant correlation found\")"
   ]
  },
  {
   "cell_type": "markdown",
   "id": "b2c44a27-985d-4aa0-bd10-4cea466a6653",
   "metadata": {},
   "source": [
    "### cohesion and satisfaction\n",
    "\n",
    "- kendall's tau:  0.5810331170000481\n",
    "- p-value:  1.1780601105141915e-08\n",
    "- significant correlation found\n"
   ]
  },
  {
   "cell_type": "code",
   "execution_count": 34,
   "id": "06e5219c-1b08-4a69-afe6-305800e75c7d",
   "metadata": {},
   "outputs": [
    {
     "name": "stdout",
     "output_type": "stream",
     "text": [
      "kendall's tau:  0.5810331170000481\n",
      "p-value:  1.1780601105141915e-08\n",
      "Significant correlation found\n"
     ]
    }
   ],
   "source": [
    "# get column of interest\n",
    "mean_cohesion_array = full_summary_stats_df[\"cohesion_mean\"].values\n",
    "mean_satisfaction_array = full_summary_stats_df[\"satisfaction_mean\"].values\n",
    "\n",
    "# calculate kendall's tau correlation; for variance of words and kpm\n",
    "calculate_kendalls_tau = scipy.stats.kendalltau(mean_cohesion_array, mean_satisfaction_array)\n",
    "\n",
    "print(\"kendall's tau: \", calculate_kendalls_tau[0])\n",
    "print(\"p-value: \", calculate_kendalls_tau[1])\n",
    "\n",
    "if calculate_kendalls_tau[1] < 0.05: \n",
    "    print(\"Significant correlation found\")\n",
    "    \n",
    "else: \n",
    "    print(\"No significant correlation found\")"
   ]
  },
  {
   "cell_type": "code",
   "execution_count": 8,
   "id": "dd3da93b-a7cf-416c-af37-c2f591465582",
   "metadata": {},
   "outputs": [
    {
     "data": {
      "image/png": "[encoded data removed]",
      "text/plain": [
       "<Figure size 432x432 with 3 Axes>"
      ]
     },
     "metadata": {
      "needs_background": "light"
     },
     "output_type": "display_data"
    }
   ],
   "source": [
    "# relationship between mean wpm and outcome\n",
    "ax1 = sns.jointplot(data = full_summary_stats_df, x = \"cohesion_mean\", y = \"satisfaction_mean\")\n",
    "#ax1.set(xlabel = \"mean Words per minute\", ylabel = \"mean Kills per minute\")\n",
    "\n",
    "plt.savefig('../graphs/cohesion_satisfcation_jointplot.png')"
   ]
  },
  {
   "cell_type": "markdown",
   "id": "6920d556-a006-4bae-a960-d3ad6403b21b",
   "metadata": {},
   "source": [
    "*check if the relationship is significant*"
   ]
  },
  {
   "cell_type": "markdown",
   "id": "3e471c53-a00a-4782-b3d7-a2391d93a598",
   "metadata": {},
   "source": [
    "**calculate correlation between words per minute and kills per minute**"
   ]
  },
  {
   "cell_type": "code",
   "execution_count": 9,
   "id": "65787e74-a78c-4790-b689-081a1e17da2e",
   "metadata": {},
   "outputs": [],
   "source": [
    "# retrieve column of interest\n",
    "mean_cohesion_column = full_summary_stats_df.loc[:, \"cohesion_mean\"]\n",
    "mean_wpm_column = full_summary_stats_df.loc[:, \"mean_wpm\"]\n",
    "dist_communication_column = full_summary_stats_df.loc[:, \"variance_wpm\"]\n",
    "mean_kpm_column = full_summary_stats_df.loc[:, \"kills_per_minute\"]\n",
    "\n",
    "# convert column into array\n",
    "mean_cohesion_array = mean_cohesion_column.values\n",
    "mean_wpm_array = mean_wpm_column.values\n",
    "dist_communication_array = dist_communication_column.values\n",
    "mean_kpm_array = mean_kpm_column.values\n"
   ]
  },
  {
   "cell_type": "markdown",
   "id": "24350a02-cc7b-42a3-babf-962219add48a",
   "metadata": {},
   "source": [
    "### Pearson's r\n",
    "- assumptions: For the Pearson r correlation, both variables should be normally distributed (normally distributed variables have a bell-shaped curve).  Other assumptions include linearity and homoscedasticity.  Linearity assumes a straight line relationship between each of the two variables and homoscedasticity assumes that data is equally distributed about the regression line.\n",
    "- https://www.statisticssolutions.com/free-resources/directory-of-statistical-analyses/correlation-pearson-kendall-spearman/"
   ]
  },
  {
   "cell_type": "code",
   "execution_count": 10,
   "id": "ff9a4a68-6436-44c9-80fc-a6cb77c5f196",
   "metadata": {},
   "outputs": [
    {
     "name": "stdout",
     "output_type": "stream",
     "text": [
      "Pearson's r:  -0.006819297069725283\n",
      "p-value:  0.9633097735789218\n",
      "No significant correlation found\n"
     ]
    }
   ],
   "source": [
    "# calculate Pearsons correlation with p value ; for wpm and kpm\n",
    "\n",
    "calculate_pearsons_r = scipy.stats.pearsonr(mean_wpm_array, mean_kpm_array)\n",
    "\n",
    "print(\"Pearson's r: \", calculate_pearsons_r[0])\n",
    "print(\"p-value: \", calculate_pearsons_r[1])\n",
    "\n",
    "if calculate_pearsons_r[1] < 0.05: \n",
    "    print(\"Significant correlation found\")\n",
    "    \n",
    "else: \n",
    "    print(\"No significant correlation found\")"
   ]
  },
  {
   "cell_type": "markdown",
   "id": "a4c1b0e1-bd78-4094-8d5b-124949eb4c15",
   "metadata": {},
   "source": [
    "**calculate correlation between variance of words and kills per minute**\n"
   ]
  },
  {
   "cell_type": "markdown",
   "id": "bad04b86-19e1-4fd4-b8f2-2cc02ec1bbf7",
   "metadata": {},
   "source": [
    "Kendall's tau\n",
    "\n",
    "    assumptions: monotonicity (the relationship between the two variables follows the general direction), fails the assumptions of pearsons\n",
    "    https://www.statstest.com/kendalls-tau/\n",
    "\n"
   ]
  },
  {
   "cell_type": "code",
   "execution_count": 11,
   "id": "fee60616-05ad-4a0e-8f3d-22212650a856",
   "metadata": {},
   "outputs": [
    {
     "name": "stdout",
     "output_type": "stream",
     "text": [
      "kendall's tau:  -0.10022173934461917\n",
      "p-value:  0.31519151937692413\n",
      "No significant correlation found\n"
     ]
    }
   ],
   "source": [
    "# calculate kendall's tau correlation; for variance of words and kpm\n",
    "calculate_kendalls_tau = scipy.stats.kendalltau(dist_communication_array, mean_kpm_array)\n",
    "\n",
    "print(\"kendall's tau: \", calculate_kendalls_tau[0])\n",
    "print(\"p-value: \", calculate_kendalls_tau[1])\n",
    "\n",
    "if calculate_kendalls_tau[1] < 0.05: \n",
    "    print(\"Significant correlation found\")\n",
    "    \n",
    "else: \n",
    "    print(\"No significant correlation found\")"
   ]
  },
  {
   "cell_type": "markdown",
   "id": "bf987a0e-4d8e-4f8c-bf19-33bbbbc6eb6a",
   "metadata": {},
   "source": [
    "## Calculate partial correlations "
   ]
  },
  {
   "cell_type": "markdown",
   "id": "676f4d2b-0481-4c89-b556-311daf514c15",
   "metadata": {},
   "source": [
    "Cohesion and Match outcome controlling for WPM"
   ]
  },
  {
   "cell_type": "code",
   "execution_count": 3,
   "id": "78e1d811-b7d0-46b8-9764-de8f58cb460f",
   "metadata": {},
   "outputs": [],
   "source": [
    "import pingouin as pg\n",
    "\n",
    "# partial correlation for cohesion and match outcome, controlling for wpm \n",
    "cohesion_outcome_wpm = pg.partial_corr(data=full_summary_stats_df, x='cohesion_mean', y='match_outcome', covar='mean_wpm')\n",
    "\n",
    "# partial correlation for cohesion and match outcome, controlling for satisfaction\n",
    "cohesion_outcome_satisfaction = pg.partial_corr(data=full_summary_stats_df, x='cohesion_mean', y='match_outcome', covar='satisfaction_mean')\n",
    "\n",
    "wpm_cohesion_satisfaction = pg.partial_corr(data=full_summary_stats_df, x = 'mean_wpm', y = 'cohesion_mean', covar = 'satisfaction_mean')"
   ]
  },
  {
   "cell_type": "code",
   "execution_count": 4,
   "id": "de95496b-32c4-435e-b19b-b2ff3c637447",
   "metadata": {},
   "outputs": [
    {
     "data": {
      "text/html": [
       "<div>\n",
       "<style scoped>\n",
       "    .dataframe tbody tr th:only-of-type {\n",
       "        vertical-align: middle;\n",
       "    }\n",
       "\n",
       "    .dataframe tbody tr th {\n",
       "        vertical-align: top;\n",
       "    }\n",
       "\n",
       "    .dataframe thead th {\n",
       "        text-align: right;\n",
       "    }\n",
       "</style>\n",
       "<table border=\"1\" class=\"dataframe\">\n",
       "  <thead>\n",
       "    <tr style=\"text-align: right;\">\n",
       "      <th></th>\n",
       "      <th>n</th>\n",
       "      <th>r</th>\n",
       "      <th>CI95%</th>\n",
       "      <th>p-val</th>\n",
       "    </tr>\n",
       "  </thead>\n",
       "  <tbody>\n",
       "    <tr>\n",
       "      <th>pearson</th>\n",
       "      <td>48</td>\n",
       "      <td>0.03542</td>\n",
       "      <td>[-0.25, 0.32]</td>\n",
       "      <td>0.813149</td>\n",
       "    </tr>\n",
       "  </tbody>\n",
       "</table>\n",
       "</div>"
      ],
      "text/plain": [
       "          n        r          CI95%     p-val\n",
       "pearson  48  0.03542  [-0.25, 0.32]  0.813149"
      ]
     },
     "execution_count": 4,
     "metadata": {},
     "output_type": "execute_result"
    }
   ],
   "source": [
    "wpm_cohesion_satisfaction"
   ]
  },
  {
   "cell_type": "markdown",
   "id": "83de6cc8-a4d2-4ad3-97cb-d60f5ff149ef",
   "metadata": {},
   "source": [
    "**calculate logistic regression of words per minute and match outcome**"
   ]
  },
  {
   "cell_type": "code",
   "execution_count": 12,
   "id": "2d779922-1ca4-4631-9a4b-22ca511e60ca",
   "metadata": {},
   "outputs": [
    {
     "data": {
      "text/plain": [
       "<seaborn.axisgrid.FacetGrid at 0x7f81a170cf40>"
      ]
     },
     "execution_count": 12,
     "metadata": {},
     "output_type": "execute_result"
    },
    {
     "data": {
      "image/png": "[encoded data removed]",
      "text/plain": [
       "<Figure size 360x360 with 1 Axes>"
      ]
     },
     "metadata": {
      "needs_background": "light"
     },
     "output_type": "display_data"
    }
   ],
   "source": [
    "# relationship between mean wpm and match outcome\n",
    "#ax2 = sns.catplot(data = full_summary_stats_df, x = \"winLose\", y = \"meanWordsPerMinute\", kind = \"box\", notch = True, color = \"blue\")\n",
    "ax2 = sns.catplot(data = full_summary_stats_df, x = \"match_outcome\", y = \"mean_wpm\", kind = \"box\", palette = \"pink_r\")\n",
    "\n",
    "ax2.set(xlabel = \"match outcome\", ylabel = \"mean words per minute\")\n",
    "\n",
    "#ax2.savefig(r\"../graphs/wpm-and-match-outcome.png\")\n",
    "\n",
    "## find notches of 95% CI\n",
    "## get p-value\n",
    "## run t-test"
   ]
  },
  {
   "cell_type": "code",
   "execution_count": 9,
   "id": "5e5aad5a-015e-40de-83c4-f930f974f47b",
   "metadata": {
    "tags": []
   },
   "outputs": [
    {
     "data": {
      "image/png": "[encoded data removed]",
      "text/plain": [
       "<Figure size 360x360 with 1 Axes>"
      ]
     },
     "metadata": {
      "needs_background": "light"
     },
     "output_type": "display_data"
    }
   ],
   "source": [
    "# relationship between mean wpm and match outcome\n",
    "#ax2 = sns.catplot(data = full_summary_stats_df, x = \"winLose\", y = \"cohesion_mean\", kind = \"box\", notch = True)\n",
    "\n",
    "ax2 = sns.catplot(data = full_summary_stats_df, x = \"match_outcome\", y = \"cohesion_mean\", kind = \"box\", palette = \"PuBu\")\n",
    "ax2.set(xlabel = \"mean team cohesion\", ylabel = \"match outcome\")\n",
    "plt.savefig('../graphs/cohesion_and_matchoutcome.png')"
   ]
  },
  {
   "cell_type": "code",
   "execution_count": null,
   "id": "51739d5e-b71a-4d77-a2e2-f4fc90fcf79a",
   "metadata": {},
   "outputs": [],
   "source": [
    "e = 24.5 o = 36 : (-11.5)^2 = 132.25/24.5 == 5.3979\n",
    "e = 24.5 0 = 13 (11.5^2) = 132.25/24.5 == 5.3979\n",
    "\n",
    "chi square = 10.7958"
   ]
  },
  {
   "cell_type": "markdown",
   "id": "ec50d1d8-de5f-4111-9f33-f59494d8e73d",
   "metadata": {},
   "source": [
    "# Running a logistic regression of comm freq. and cohesion on match outcome\n",
    "https://www.geeksforgeeks.org/logistic-regression-using-statsmodels/\n",
    "\n",
    "‘Iterations‘ refer to the number of times the model iterates over the data, trying to optimise the model. By default, the maximum number of iterations performed is 35, after which the optimisation fails."
   ]
  },
  {
   "cell_type": "code",
   "execution_count": 19,
   "id": "3a23a6b2-b957-4fb3-aa2c-556459d4d989",
   "metadata": {},
   "outputs": [
    {
     "ename": "ModuleNotFoundError",
     "evalue": "No module named 'sklearn'",
     "output_type": "error",
     "traceback": [
      "\u001b[0;31m---------------------------------------------------------------------------\u001b[0m",
      "\u001b[0;31mModuleNotFoundError\u001b[0m                       Traceback (most recent call last)",
      "\u001b[0;32m/var/folders/w8/b937dpk969g502kmx14tg5sc0000gp/T/ipykernel_20192/527220173.py\u001b[0m in \u001b[0;36m<module>\u001b[0;34m\u001b[0m\n\u001b[1;32m      2\u001b[0m \u001b[0;32mimport\u001b[0m \u001b[0mpandas\u001b[0m \u001b[0;32mas\u001b[0m \u001b[0mpd\u001b[0m\u001b[0;34m\u001b[0m\u001b[0;34m\u001b[0m\u001b[0m\n\u001b[1;32m      3\u001b[0m \u001b[0;32mimport\u001b[0m \u001b[0mnumpy\u001b[0m \u001b[0;32mas\u001b[0m \u001b[0mnp\u001b[0m\u001b[0;34m\u001b[0m\u001b[0;34m\u001b[0m\u001b[0m\n\u001b[0;32m----> 4\u001b[0;31m \u001b[0;32mfrom\u001b[0m \u001b[0msklearn\u001b[0m\u001b[0;34m.\u001b[0m\u001b[0mlinear_model\u001b[0m \u001b[0;32mimport\u001b[0m \u001b[0mLogisticRegression\u001b[0m\u001b[0;34m\u001b[0m\u001b[0;34m\u001b[0m\u001b[0m\n\u001b[0m\u001b[1;32m      5\u001b[0m \u001b[0;32mfrom\u001b[0m \u001b[0msklearn\u001b[0m\u001b[0;34m.\u001b[0m\u001b[0mmetrics\u001b[0m \u001b[0;32mimport\u001b[0m \u001b[0mclassification_report\u001b[0m\u001b[0;34m,\u001b[0m \u001b[0mconfusion_matrix\u001b[0m\u001b[0;34m\u001b[0m\u001b[0;34m\u001b[0m\u001b[0m\n\u001b[1;32m      6\u001b[0m \u001b[0;32mimport\u001b[0m \u001b[0mmatplotlib\u001b[0m\u001b[0;34m.\u001b[0m\u001b[0mpyplot\u001b[0m \u001b[0;32mas\u001b[0m \u001b[0mplt\u001b[0m\u001b[0;34m\u001b[0m\u001b[0;34m\u001b[0m\u001b[0m\n",
      "\u001b[0;31mModuleNotFoundError\u001b[0m: No module named 'sklearn'"
     ]
    }
   ],
   "source": [
    "import statsmodels.api as sm\n",
    "import pandas as pd\n",
    "import numpy as np\n",
    "from sklearn.linear_model import LogisticRegression\n",
    "from sklearn.metrics import classification_report, confusion_matrix\n",
    "import matplotlib.pyplot as plt"
   ]
  },
  {
   "cell_type": "code",
   "execution_count": 17,
   "id": "7ecf1059-978d-48aa-bbc8-6c496aefb161",
   "metadata": {},
   "outputs": [
    {
     "name": "stdout",
     "output_type": "stream",
     "text": [
      "Optimization terminated successfully.\n",
      "         Current function value: 0.527571\n",
      "         Iterations 5\n"
     ]
    }
   ],
   "source": [
    "# load the dataset\n",
    "#full_summary_stats_df = pd.read_csv(r\"D:\\Projects\\UG-league-project\\data\\full-summary-stats.csv\")\n",
    "\n",
    "# define the dependent and independent variables\n",
    "Xtrain = full_summary_stats_df[[\"mean_wpm\", \"cohesion_mean\"]]\n",
    "ytrain = full_summary_stats_df[[\"match_outcome\"]]\n",
    "\n",
    "# building the model and fitting the data\n",
    "log_reg = sm.Logit(ytrain, Xtrain).fit()"
   ]
  },
  {
   "cell_type": "code",
   "execution_count": 18,
   "id": "f4867c9f-b6ae-4921-bd55-acef5e9b7459",
   "metadata": {},
   "outputs": [
    {
     "name": "stdout",
     "output_type": "stream",
     "text": [
      "                           Logit Regression Results                           \n",
      "==============================================================================\n",
      "Dep. Variable:          match_outcome   No. Observations:                   48\n",
      "Model:                          Logit   Df Residuals:                       46\n",
      "Method:                           MLE   Df Model:                            1\n",
      "Date:                Mon, 29 Nov 2021   Pseudo R-squ.:                 0.06182\n",
      "Time:                        16:04:43   Log-Likelihood:                -25.323\n",
      "converged:                       True   LL-Null:                       -26.992\n",
      "Covariance Type:            nonrobust   LLR p-value:                   0.06772\n",
      "=================================================================================\n",
      "                    coef    std err          z      P>|z|      [0.025      0.975]\n",
      "---------------------------------------------------------------------------------\n",
      "mean_wpm          0.0028      0.013      0.214      0.831      -0.023       0.029\n",
      "cohesion_mean     0.1677      0.191      0.877      0.380      -0.207       0.542\n",
      "=================================================================================\n"
     ]
    }
   ],
   "source": [
    "# get the summary table\n",
    "print(log_reg.summary())"
   ]
  },
  {
   "cell_type": "code",
   "execution_count": 11,
   "id": "39dc3c0d-2b04-4465-ac71-76cdeea7f84f",
   "metadata": {},
   "outputs": [
    {
     "data": {
      "text/html": [
       "<div>\n",
       "<style scoped>\n",
       "    .dataframe tbody tr th:only-of-type {\n",
       "        vertical-align: middle;\n",
       "    }\n",
       "\n",
       "    .dataframe tbody tr th {\n",
       "        vertical-align: top;\n",
       "    }\n",
       "\n",
       "    .dataframe thead th {\n",
       "        text-align: right;\n",
       "    }\n",
       "</style>\n",
       "<table border=\"1\" class=\"dataframe\">\n",
       "  <thead>\n",
       "    <tr style=\"text-align: right;\">\n",
       "      <th></th>\n",
       "      <th>OR</th>\n",
       "      <th>z-value</th>\n",
       "      <th>2.5%</th>\n",
       "      <th>97.5%</th>\n",
       "    </tr>\n",
       "  </thead>\n",
       "  <tbody>\n",
       "    <tr>\n",
       "      <th>meanWordsPerMinute</th>\n",
       "      <td>1.006548</td>\n",
       "      <td>0.637742</td>\n",
       "      <td>0.979572</td>\n",
       "      <td>1.034267</td>\n",
       "    </tr>\n",
       "    <tr>\n",
       "      <th>cohesion_mean</th>\n",
       "      <td>1.127809</td>\n",
       "      <td>0.527383</td>\n",
       "      <td>0.776683</td>\n",
       "      <td>1.637675</td>\n",
       "    </tr>\n",
       "  </tbody>\n",
       "</table>\n",
       "</div>"
      ],
      "text/plain": [
       "                          OR   z-value      2.5%     97.5%\n",
       "meanWordsPerMinute  1.006548  0.637742  0.979572  1.034267\n",
       "cohesion_mean       1.127809  0.527383  0.776683  1.637675"
      ]
     },
     "execution_count": 11,
     "metadata": {},
     "output_type": "execute_result"
    }
   ],
   "source": [
    "# convert log odds to odds ratio for easier interpretation\n",
    "log_reg_odds = pd.DataFrame(np.exp(log_reg.params), columns= ['OR'])\n",
    "log_reg_odds['z-value']= log_reg.pvalues\n",
    "log_reg_odds[['2.5%', '97.5%']] = np.exp(log_reg.conf_int())\n",
    "\n",
    "log_reg_odds"
   ]
  },
  {
   "cell_type": "code",
   "execution_count": null,
   "id": "6a1bb5bd-72ff-4c50-9c47-2a5c2a48da72",
   "metadata": {},
   "outputs": [],
   "source": []
  }
 ],
 "metadata": {
  "kernelspec": {
   "display_name": "Python 3 (ipykernel)",
   "language": "python",
   "name": "python3"
  },
  "language_info": {
   "codemirror_mode": {
    "name": "ipython",
    "version": 3
   },
   "file_extension": ".py",
   "mimetype": "text/x-python",
   "name": "python",
   "nbconvert_exporter": "python",
   "pygments_lexer": "ipython3",
   "version": "3.9.7"
  }
 },
 "nbformat": 4,
 "nbformat_minor": 5
}
