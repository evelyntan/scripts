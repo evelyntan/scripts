{
 "cells": [
  {
   "cell_type": "markdown",
   "id": "67c2da63-caf9-4592-82fb-0b6aa19a8495",
   "metadata": {},
   "source": [
    "# Step 1\n",
    "## What is the relationship between communication (words per minute + word variance) and performance (match outcome + kills per minute)"
   ]
  },
  {
   "cell_type": "code",
   "execution_count": 1,
   "id": "e5d4ea75-cb2d-4041-8ea3-2c0c4cca9985",
   "metadata": {},
   "outputs": [
    {
     "data": {
      "text/html": [
       "<div>\n",
       "<style scoped>\n",
       "    .dataframe tbody tr th:only-of-type {\n",
       "        vertical-align: middle;\n",
       "    }\n",
       "\n",
       "    .dataframe tbody tr th {\n",
       "        vertical-align: top;\n",
       "    }\n",
       "\n",
       "    .dataframe thead th {\n",
       "        text-align: right;\n",
       "    }\n",
       "</style>\n",
       "<table border=\"1\" class=\"dataframe\">\n",
       "  <thead>\n",
       "    <tr style=\"text-align: right;\">\n",
       "      <th></th>\n",
       "      <th>teamNumber</th>\n",
       "      <th>matchDuration</th>\n",
       "      <th>totalWords</th>\n",
       "      <th>meanWordsPerSecond</th>\n",
       "      <th>meanWordsPerMinute</th>\n",
       "      <th>varianceOfWords</th>\n",
       "      <th>rawMeanSentiment</th>\n",
       "      <th>meanSentimentWithoutZeros</th>\n",
       "      <th>matchOutcome</th>\n",
       "      <th>winLose</th>\n",
       "      <th>...</th>\n",
       "      <th>cohesion_50_percent</th>\n",
       "      <th>cohesion_75_percent</th>\n",
       "      <th>cohesion_max</th>\n",
       "      <th>satisfaction_mean</th>\n",
       "      <th>satisfaction_std</th>\n",
       "      <th>satisfaction_min</th>\n",
       "      <th>satisfaction_25_percent</th>\n",
       "      <th>satisfaction_50_percent</th>\n",
       "      <th>satisfaction_75_percent</th>\n",
       "      <th>satisfaction_max</th>\n",
       "    </tr>\n",
       "  </thead>\n",
       "  <tbody>\n",
       "    <tr>\n",
       "      <th>0</th>\n",
       "      <td>1</td>\n",
       "      <td>1509.8</td>\n",
       "      <td>1825</td>\n",
       "      <td>1.209</td>\n",
       "      <td>72.54</td>\n",
       "      <td>80.372</td>\n",
       "      <td>0.111</td>\n",
       "      <td>0.203</td>\n",
       "      <td>0</td>\n",
       "      <td>lose</td>\n",
       "      <td>...</td>\n",
       "      <td>6.000000</td>\n",
       "      <td>6.250000</td>\n",
       "      <td>6.500000</td>\n",
       "      <td>6.166667</td>\n",
       "      <td>0.803638</td>\n",
       "      <td>5.25</td>\n",
       "      <td>5.875</td>\n",
       "      <td>6.50</td>\n",
       "      <td>6.625</td>\n",
       "      <td>6.75</td>\n",
       "    </tr>\n",
       "    <tr>\n",
       "      <th>1</th>\n",
       "      <td>2</td>\n",
       "      <td>1778.1</td>\n",
       "      <td>2271</td>\n",
       "      <td>1.277</td>\n",
       "      <td>76.62</td>\n",
       "      <td>68.808</td>\n",
       "      <td>0.095</td>\n",
       "      <td>0.169</td>\n",
       "      <td>1</td>\n",
       "      <td>win</td>\n",
       "      <td>...</td>\n",
       "      <td>6.000000</td>\n",
       "      <td>6.000000</td>\n",
       "      <td>6.833333</td>\n",
       "      <td>6.700000</td>\n",
       "      <td>0.325960</td>\n",
       "      <td>6.25</td>\n",
       "      <td>6.500</td>\n",
       "      <td>6.75</td>\n",
       "      <td>7.000</td>\n",
       "      <td>7.00</td>\n",
       "    </tr>\n",
       "    <tr>\n",
       "      <th>2</th>\n",
       "      <td>3</td>\n",
       "      <td>1599.8</td>\n",
       "      <td>2867</td>\n",
       "      <td>1.792</td>\n",
       "      <td>107.52</td>\n",
       "      <td>113.542</td>\n",
       "      <td>0.073</td>\n",
       "      <td>0.127</td>\n",
       "      <td>1</td>\n",
       "      <td>win</td>\n",
       "      <td>...</td>\n",
       "      <td>6.666667</td>\n",
       "      <td>6.750000</td>\n",
       "      <td>6.833333</td>\n",
       "      <td>6.916667</td>\n",
       "      <td>0.144338</td>\n",
       "      <td>6.75</td>\n",
       "      <td>6.875</td>\n",
       "      <td>7.00</td>\n",
       "      <td>7.000</td>\n",
       "      <td>7.00</td>\n",
       "    </tr>\n",
       "    <tr>\n",
       "      <th>3</th>\n",
       "      <td>4</td>\n",
       "      <td>1388.6</td>\n",
       "      <td>2702</td>\n",
       "      <td>1.946</td>\n",
       "      <td>116.76</td>\n",
       "      <td>198.309</td>\n",
       "      <td>0.090</td>\n",
       "      <td>0.135</td>\n",
       "      <td>1</td>\n",
       "      <td>win</td>\n",
       "      <td>...</td>\n",
       "      <td>5.833333</td>\n",
       "      <td>6.166667</td>\n",
       "      <td>6.166667</td>\n",
       "      <td>6.200000</td>\n",
       "      <td>0.647109</td>\n",
       "      <td>5.50</td>\n",
       "      <td>5.750</td>\n",
       "      <td>6.00</td>\n",
       "      <td>6.750</td>\n",
       "      <td>7.00</td>\n",
       "    </tr>\n",
       "    <tr>\n",
       "      <th>4</th>\n",
       "      <td>5</td>\n",
       "      <td>1175.9</td>\n",
       "      <td>2417</td>\n",
       "      <td>2.056</td>\n",
       "      <td>123.36</td>\n",
       "      <td>133.977</td>\n",
       "      <td>0.100</td>\n",
       "      <td>0.147</td>\n",
       "      <td>1</td>\n",
       "      <td>win</td>\n",
       "      <td>...</td>\n",
       "      <td>6.833333</td>\n",
       "      <td>7.000000</td>\n",
       "      <td>7.000000</td>\n",
       "      <td>6.800000</td>\n",
       "      <td>0.447214</td>\n",
       "      <td>6.00</td>\n",
       "      <td>7.000</td>\n",
       "      <td>7.00</td>\n",
       "      <td>7.000</td>\n",
       "      <td>7.00</td>\n",
       "    </tr>\n",
       "  </tbody>\n",
       "</table>\n",
       "<p>5 rows × 61 columns</p>\n",
       "</div>"
      ],
      "text/plain": [
       "   teamNumber  matchDuration  totalWords  meanWordsPerSecond  \\\n",
       "0           1         1509.8        1825               1.209   \n",
       "1           2         1778.1        2271               1.277   \n",
       "2           3         1599.8        2867               1.792   \n",
       "3           4         1388.6        2702               1.946   \n",
       "4           5         1175.9        2417               2.056   \n",
       "\n",
       "   meanWordsPerMinute  varianceOfWords  rawMeanSentiment  \\\n",
       "0               72.54           80.372             0.111   \n",
       "1               76.62           68.808             0.095   \n",
       "2              107.52          113.542             0.073   \n",
       "3              116.76          198.309             0.090   \n",
       "4              123.36          133.977             0.100   \n",
       "\n",
       "   meanSentimentWithoutZeros  matchOutcome winLose  ...  cohesion_50_percent  \\\n",
       "0                      0.203             0    lose  ...             6.000000   \n",
       "1                      0.169             1     win  ...             6.000000   \n",
       "2                      0.127             1     win  ...             6.666667   \n",
       "3                      0.135             1     win  ...             5.833333   \n",
       "4                      0.147             1     win  ...             6.833333   \n",
       "\n",
       "   cohesion_75_percent  cohesion_max  satisfaction_mean  satisfaction_std  \\\n",
       "0             6.250000      6.500000           6.166667          0.803638   \n",
       "1             6.000000      6.833333           6.700000          0.325960   \n",
       "2             6.750000      6.833333           6.916667          0.144338   \n",
       "3             6.166667      6.166667           6.200000          0.647109   \n",
       "4             7.000000      7.000000           6.800000          0.447214   \n",
       "\n",
       "   satisfaction_min  satisfaction_25_percent  satisfaction_50_percent  \\\n",
       "0              5.25                    5.875                     6.50   \n",
       "1              6.25                    6.500                     6.75   \n",
       "2              6.75                    6.875                     7.00   \n",
       "3              5.50                    5.750                     6.00   \n",
       "4              6.00                    7.000                     7.00   \n",
       "\n",
       "   satisfaction_75_percent  satisfaction_max  \n",
       "0                    6.625              6.75  \n",
       "1                    7.000              7.00  \n",
       "2                    7.000              7.00  \n",
       "3                    6.750              7.00  \n",
       "4                    7.000              7.00  \n",
       "\n",
       "[5 rows x 61 columns]"
      ]
     },
     "execution_count": 1,
     "metadata": {},
     "output_type": "execute_result"
    }
   ],
   "source": [
    "# based on this tutorial : http://seaborn.pydata.org/tutorial/relational.html#relational-tutorial\n",
    "\n",
    "import numpy as np\n",
    "import pandas as pd \n",
    "import matplotlib.pyplot as plt\n",
    "import seaborn as sns\n",
    "import scipy.stats\n",
    "\n",
    "# import the data\n",
    "full_summary_stats_df = pd.read_csv(r\"D:\\Projects\\UG-league-project\\data\\full-summary-stats.csv\")\n",
    "\n",
    "full_summary_stats_df.head()"
   ]
  },
  {
   "cell_type": "markdown",
   "id": "c1491496-0f27-4bb2-af69-b78d47caa986",
   "metadata": {},
   "source": [
    "*Visualise the relationship*\n"
   ]
  },
  {
   "cell_type": "code",
   "execution_count": 2,
   "id": "74699b55-2126-43e4-84c7-cca4bf70012c",
   "metadata": {},
   "outputs": [
    {
     "data": {
      "image/png": "[encoded data removed]",
      "text/plain": [
       "<Figure size 432x432 with 3 Axes>"
      ]
     },
     "metadata": {
      "needs_background": "light"
     },
     "output_type": "display_data"
    },
    {
     "data": {
      "image/png": "[encoded data removed]",
      "text/plain": [
       "<Figure size 432x432 with 3 Axes>"
      ]
     },
     "metadata": {
      "needs_background": "light"
     },
     "output_type": "display_data"
    }
   ],
   "source": [
    "# relationship between mean wpm and kpm\n",
    "ax1 = sns.jointplot(data = full_summary_stats_df, x = \"meanWordsPerMinute\", y = \"killsPerMinute\")\n",
    "#ax1.set(xlabel = \"mean Words per minute\", ylabel = \"mean Kills per minute\")\n",
    "ax1.savefig(r\"../graphs/wpm-and-kpm.png\")\n",
    "\n",
    "# relationship between mean wpm and kpm\n",
    "ax1 = sns.jointplot(data = full_summary_stats_df, x = \"varianceOfWords\", y = \"killsPerMinute\")\n",
    "#ax1.set(xlabel = \"mean Words per minute\", ylabel = \"mean Kills per minute\")\n",
    "ax1.savefig(r\"../graphs/word-variance-and-kpm.png\")\n",
    "\n"
   ]
  },
  {
   "cell_type": "markdown",
   "id": "6920d556-a006-4bae-a960-d3ad6403b21b",
   "metadata": {},
   "source": [
    "*check if the relationship is significant*"
   ]
  },
  {
   "cell_type": "markdown",
   "id": "3e471c53-a00a-4782-b3d7-a2391d93a598",
   "metadata": {},
   "source": [
    "**calculate correlation between words per minute and kills per minute**"
   ]
  },
  {
   "cell_type": "code",
   "execution_count": 3,
   "id": "65787e74-a78c-4790-b689-081a1e17da2e",
   "metadata": {},
   "outputs": [],
   "source": [
    "# retrieve column of interest\n",
    "mean_cohesion_column = full_summary_stats_df.loc[:, \"cohesion_mean\"]\n",
    "mean_wpm_column = full_summary_stats_df.loc[:, \"meanWordsPerMinute\"]\n",
    "dist_communication_column = full_summary_stats_df.loc[:, \"varianceOfWords\"]\n",
    "mean_kpm_column = full_summary_stats_df.loc[:, \"killsPerMinute\"]\n",
    "\n",
    "# convert column into array\n",
    "mean_cohesion_array = mean_cohesion_column.values\n",
    "mean_wpm_array = mean_wpm_column.values\n",
    "dist_communication_array = dist_communication_column.values\n",
    "mean_kpm_array = mean_kpm_column.values"
   ]
  },
  {
   "cell_type": "markdown",
   "id": "24350a02-cc7b-42a3-babf-962219add48a",
   "metadata": {},
   "source": [
    "### Pearson's r\n",
    "- assumptions: For the Pearson r correlation, both variables should be normally distributed (normally distributed variables have a bell-shaped curve).  Other assumptions include linearity and homoscedasticity.  Linearity assumes a straight line relationship between each of the two variables and homoscedasticity assumes that data is equally distributed about the regression line.\n",
    "- https://www.statisticssolutions.com/free-resources/directory-of-statistical-analyses/correlation-pearson-kendall-spearman/"
   ]
  },
  {
   "cell_type": "code",
   "execution_count": 4,
   "id": "ff9a4a68-6436-44c9-80fc-a6cb77c5f196",
   "metadata": {},
   "outputs": [
    {
     "name": "stdout",
     "output_type": "stream",
     "text": [
      "Pearson's r:  0.07480927174852194\n",
      "p-value:  0.613319465927714\n",
      "No significant correlation found\n"
     ]
    }
   ],
   "source": [
    "# calculate Pearsons correlation with p value ; for cohesion and wpm\n",
    "\n",
    "calculate_pearsons_r = scipy.stats.pearsonr(mean_wpm_array, mean_kpm_array)\n",
    "\n",
    "print(\"Pearson's r: \", calculate_pearsons_r[0])\n",
    "print(\"p-value: \", calculate_pearsons_r[1])\n",
    "\n",
    "if calculate_pearsons_r[1] < 0.05: \n",
    "    print(\"Significant correlation found\")\n",
    "    \n",
    "else: \n",
    "    print(\"No significant correlation found\")"
   ]
  },
  {
   "cell_type": "markdown",
   "id": "a4c1b0e1-bd78-4094-8d5b-124949eb4c15",
   "metadata": {},
   "source": [
    "**calculate correlation between variance of words and kills per minute**\n"
   ]
  },
  {
   "cell_type": "markdown",
   "id": "bad04b86-19e1-4fd4-b8f2-2cc02ec1bbf7",
   "metadata": {},
   "source": [
    "Kendall's tau\n",
    "\n",
    "    assumptions: monotonicity (the relationship between the two variables follows the general direction), fails the assumptions of pearsons\n",
    "    https://www.statstest.com/kendalls-tau/\n",
    "\n"
   ]
  },
  {
   "cell_type": "code",
   "execution_count": 5,
   "id": "fee60616-05ad-4a0e-8f3d-22212650a856",
   "metadata": {},
   "outputs": [
    {
     "name": "stdout",
     "output_type": "stream",
     "text": [
      "kendall's tau:  -0.03636363993919811\n",
      "p-value:  0.7155413796394245\n",
      "No significant correlation found\n"
     ]
    }
   ],
   "source": [
    "# calculate kendall's tau correlation; for cohesion and wpm\n",
    "calculate_kendalls_tau = scipy.stats.kendalltau(dist_communication_array, mean_kpm_array)\n",
    "\n",
    "print(\"kendall's tau: \", calculate_kendalls_tau[0])\n",
    "print(\"p-value: \", calculate_kendalls_tau[1])\n",
    "\n",
    "if calculate_kendalls_tau[1] < 0.05: \n",
    "    print(\"Significant correlation found\")\n",
    "    \n",
    "else: \n",
    "    print(\"No significant correlation found\")"
   ]
  },
  {
   "cell_type": "markdown",
   "id": "83de6cc8-a4d2-4ad3-97cb-d60f5ff149ef",
   "metadata": {},
   "source": [
    "**calculate logistic regression of words per minute and match outcome**"
   ]
  },
  {
   "cell_type": "code",
   "execution_count": 43,
   "id": "2d779922-1ca4-4631-9a4b-22ca511e60ca",
   "metadata": {},
   "outputs": [
    {
     "data": {
      "image/png": "[encoded data removed]",
      "text/plain": [
       "<Figure size 360x360 with 1 Axes>"
      ]
     },
     "metadata": {
      "needs_background": "light"
     },
     "output_type": "display_data"
    }
   ],
   "source": [
    "# relationship between mean wpm and match outcome\n",
    "#ax2 = sns.catplot(data = full_summary_stats_df, x = \"winLose\", y = \"meanWordsPerMinute\", kind = \"box\", notch = True, color = \"blue\")\n",
    "ax2 = sns.catplot(data = full_summary_stats_df, x = \"winLose\", y = \"meanWordsPerMinute\", kind = \"box\", palette = \"pink_r\")\n",
    "\n",
    "ax2.set(xlabel = \"match outcome\", ylabel = \"mean words per minute\")\n",
    "\n",
    "ax2.savefig(r\"../graphs/wpm-and-match-outcome.png\")\n",
    "\n",
    "## find notches of 95% CI\n",
    "## get p-value\n",
    "## run t-test"
   ]
  },
  {
   "cell_type": "code",
   "execution_count": 55,
   "id": "5e5aad5a-015e-40de-83c4-f930f974f47b",
   "metadata": {
    "tags": []
   },
   "outputs": [
    {
     "data": {
      "image/png": "[encoded data removed]",
      "text/plain": [
       "<Figure size 360x360 with 1 Axes>"
      ]
     },
     "metadata": {
      "needs_background": "light"
     },
     "output_type": "display_data"
    }
   ],
   "source": [
    "# relationship between mean wpm and match outcome\n",
    "#ax2 = sns.catplot(data = full_summary_stats_df, x = \"winLose\", y = \"cohesion_mean\", kind = \"box\", notch = True)\n",
    "\n",
    "ax2 = sns.catplot(data = full_summary_stats_df, x = \"winLose\", y = \"cohesion_mean\", kind = \"box\", palette = \"PuBu\")\n",
    "ax2.set(xlabel = \"mean team cohesion\", ylabel = \"match outcome\")\n",
    "ax2.savefig(r\"../graphs/cohesion-and-match-outcome.png\")"
   ]
  },
  {
   "cell_type": "code",
   "execution_count": null,
   "id": "51739d5e-b71a-4d77-a2e2-f4fc90fcf79a",
   "metadata": {},
   "outputs": [],
   "source": [
    "e = 24.5 o = 36 : (-11.5)^2 = 132.25/24.5 == 5.3979\n",
    "e = 24.5 0 = 13 (11.5^2) = 132.25/24.5 == 5.3979\n",
    "\n",
    "chi square = 10.7958"
   ]
  },
  {
   "cell_type": "markdown",
   "id": "ec50d1d8-de5f-4111-9f33-f59494d8e73d",
   "metadata": {},
   "source": [
    "# Running a logistic regression of comm freq. and cohesion on match outcome\n",
    "https://www.geeksforgeeks.org/logistic-regression-using-statsmodels/\n",
    "\n",
    "‘Iterations‘ refer to the number of times the model iterates over the data, trying to optimise the model. By default, the maximum number of iterations performed is 35, after which the optimisation fails."
   ]
  },
  {
   "cell_type": "code",
   "execution_count": 8,
   "id": "3a23a6b2-b957-4fb3-aa2c-556459d4d989",
   "metadata": {},
   "outputs": [],
   "source": [
    "import statsmodels.api as sm\n",
    "import pandas as pd\n",
    "import numpy as np"
   ]
  },
  {
   "cell_type": "code",
   "execution_count": 9,
   "id": "7ecf1059-978d-48aa-bbc8-6c496aefb161",
   "metadata": {},
   "outputs": [
    {
     "name": "stdout",
     "output_type": "stream",
     "text": [
      "Optimization terminated successfully.\n",
      "         Current function value: 0.525698\n",
      "         Iterations 5\n"
     ]
    }
   ],
   "source": [
    "# load the dataset\n",
    "full_summary_stats_df = pd.read_csv(r\"D:\\Projects\\UG-league-project\\data\\full-summary-stats.csv\")\n",
    "\n",
    "# define the dependent and independent variables\n",
    "Xtrain = full_summary_stats_df[[\"meanWordsPerMinute\", \"cohesion_mean\"]]\n",
    "ytrain = full_summary_stats_df[[\"matchOutcome\"]]\n",
    "\n",
    "# building the model and fitting the data\n",
    "log_reg = sm.Logit(ytrain, Xtrain).fit()"
   ]
  },
  {
   "cell_type": "code",
   "execution_count": 10,
   "id": "f4867c9f-b6ae-4921-bd55-acef5e9b7459",
   "metadata": {},
   "outputs": [
    {
     "name": "stdout",
     "output_type": "stream",
     "text": [
      "                           Logit Regression Results                           \n",
      "==============================================================================\n",
      "Dep. Variable:           matchOutcome   No. Observations:                   48\n",
      "Model:                          Logit   Df Residuals:                       46\n",
      "Method:                           MLE   Df Model:                            1\n",
      "Date:                Mon, 05 Jul 2021   Pseudo R-squ.:                 0.06515\n",
      "Time:                        22:34:54   Log-Likelihood:                -25.233\n",
      "converged:                       True   LL-Null:                       -26.992\n",
      "Covariance Type:            nonrobust   LLR p-value:                   0.06074\n",
      "======================================================================================\n",
      "                         coef    std err          z      P>|z|      [0.025      0.975]\n",
      "--------------------------------------------------------------------------------------\n",
      "meanWordsPerMinute     0.0065      0.014      0.471      0.638      -0.021       0.034\n",
      "cohesion_mean          0.1203      0.190      0.632      0.527      -0.253       0.493\n",
      "======================================================================================\n"
     ]
    }
   ],
   "source": [
    "# get the summary table\n",
    "print(log_reg.summary())"
   ]
  },
  {
   "cell_type": "code",
   "execution_count": 11,
   "id": "39dc3c0d-2b04-4465-ac71-76cdeea7f84f",
   "metadata": {},
   "outputs": [
    {
     "data": {
      "text/html": [
       "<div>\n",
       "<style scoped>\n",
       "    .dataframe tbody tr th:only-of-type {\n",
       "        vertical-align: middle;\n",
       "    }\n",
       "\n",
       "    .dataframe tbody tr th {\n",
       "        vertical-align: top;\n",
       "    }\n",
       "\n",
       "    .dataframe thead th {\n",
       "        text-align: right;\n",
       "    }\n",
       "</style>\n",
       "<table border=\"1\" class=\"dataframe\">\n",
       "  <thead>\n",
       "    <tr style=\"text-align: right;\">\n",
       "      <th></th>\n",
       "      <th>OR</th>\n",
       "      <th>z-value</th>\n",
       "      <th>2.5%</th>\n",
       "      <th>97.5%</th>\n",
       "    </tr>\n",
       "  </thead>\n",
       "  <tbody>\n",
       "    <tr>\n",
       "      <th>meanWordsPerMinute</th>\n",
       "      <td>1.006548</td>\n",
       "      <td>0.637742</td>\n",
       "      <td>0.979572</td>\n",
       "      <td>1.034267</td>\n",
       "    </tr>\n",
       "    <tr>\n",
       "      <th>cohesion_mean</th>\n",
       "      <td>1.127809</td>\n",
       "      <td>0.527383</td>\n",
       "      <td>0.776683</td>\n",
       "      <td>1.637675</td>\n",
       "    </tr>\n",
       "  </tbody>\n",
       "</table>\n",
       "</div>"
      ],
      "text/plain": [
       "                          OR   z-value      2.5%     97.5%\n",
       "meanWordsPerMinute  1.006548  0.637742  0.979572  1.034267\n",
       "cohesion_mean       1.127809  0.527383  0.776683  1.637675"
      ]
     },
     "execution_count": 11,
     "metadata": {},
     "output_type": "execute_result"
    }
   ],
   "source": [
    "# convert log odds to odds ratio for easier interpretation\n",
    "log_reg_odds = pd.DataFrame(np.exp(log_reg.params), columns= ['OR'])\n",
    "log_reg_odds['z-value']= log_reg.pvalues\n",
    "log_reg_odds[['2.5%', '97.5%']] = np.exp(log_reg.conf_int())\n",
    "\n",
    "log_reg_odds"
   ]
  },
  {
   "cell_type": "code",
   "execution_count": null,
   "id": "6a1bb5bd-72ff-4c50-9c47-2a5c2a48da72",
   "metadata": {},
   "outputs": [],
   "source": []
  }
 ],
 "metadata": {
  "kernelspec": {
   "display_name": "Python 3",
   "language": "python",
   "name": "python3"
  },
  "language_info": {
   "codemirror_mode": {
    "name": "ipython",
    "version": 3
   },
   "file_extension": ".py",
   "mimetype": "text/x-python",
   "name": "python",
   "nbconvert_exporter": "python",
   "pygments_lexer": "ipython3",
   "version": "3.9.5"
  }
 },
 "nbformat": 4,
 "nbformat_minor": 5
}
