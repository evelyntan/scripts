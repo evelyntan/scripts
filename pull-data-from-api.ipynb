{
 "cells": [
  {
   "cell_type": "markdown",
   "id": "faf9946a-0a0a-4e71-8dc1-77cce7a23773",
   "metadata": {},
   "source": [
    "Script to call the Riot Games API to pull match data\n"
   ]
  },
  {
   "cell_type": "markdown",
   "id": "9cb228e2-4d01-461e-b890-d17fb248a45c",
   "metadata": {},
   "source": [
    "Step 1: import data and libraries"
   ]
  },
  {
   "cell_type": "code",
   "execution_count": 7,
   "id": "6336d790-655f-4e72-b3f5-38a6a1e0a698",
   "metadata": {},
   "outputs": [],
   "source": [
    "import json\n",
    "import requests\n",
    "\n",
    "# keep the api key updated daily\n",
    "api_key = 'RGAPI-f4791fdd-c1a6-45fb-921b-7eaed9bf9d86'\n",
    "\n",
    "matches_timeline_url = 'https://euw1.api.riotgames.com/lol/match/v4/timelines/by-match/' + {matchId}\n",
    "\n",
    "matches_meta_url = 'https://euw1.api.riotgames.com/lol/match/v4/timelines/by-match/' + {matchId}"
   ]
  },
  {
   "cell_type": "markdown",
   "id": "f85c60f3-a06a-4f9b-a6f9-38b398cae188",
   "metadata": {},
   "source": [
    "your api key, last updated 6 July 2021 \n",
    "api_key = RGAPI-f4791fdd-c1a6-45fb-921b-7eaed9bf9d86"
   ]
  },
  {
   "cell_type": "code",
   "execution_count": 19,
   "id": "d891923b-b873-4cf5-bba5-1b2bf1bcc557",
   "metadata": {},
   "outputs": [
    {
     "name": "stdout",
     "output_type": "stream",
     "text": [
      "401\n"
     ]
    }
   ],
   "source": [
    "response = requests.get('https://euw1.api.riotgames.com/lol/match/v4/timelines/by-match/5056494058', 'RGAPI-f4791fdd-c1a6-45fb-921b-7eaed9bf9d86')\n",
    "print(response.status_code)"
   ]
  },
  {
   "cell_type": "code",
   "execution_count": null,
   "id": "c59bf0ba-832a-48dd-aef4-12c4c9e50bc3",
   "metadata": {},
   "outputs": [],
   "source": []
  }
 ],
 "metadata": {
  "kernelspec": {
   "display_name": "Python 3",
   "language": "python",
   "name": "python3"
  },
  "language_info": {
   "codemirror_mode": {
    "name": "ipython",
    "version": 3
   },
   "file_extension": ".py",
   "mimetype": "text/x-python",
   "name": "python",
   "nbconvert_exporter": "python",
   "pygments_lexer": "ipython3",
   "version": "3.9.5"
  }
 },
 "nbformat": 4,
 "nbformat_minor": 5
}
