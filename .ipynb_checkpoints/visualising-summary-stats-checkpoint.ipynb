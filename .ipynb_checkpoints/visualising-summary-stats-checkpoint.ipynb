{
 "cells": [
  {
   "cell_type": "markdown",
   "id": "63d0bddf-2c27-4032-8b7a-868c74fdd5c4",
   "metadata": {},
   "source": [
    "This document has functions to run stats on the summary stats for comms, performance, and cohesion scores"
   ]
  },
  {
   "cell_type": "markdown",
   "id": "bf1604d8-3fbd-43f1-a67c-a38cae6357e1",
   "metadata": {},
   "source": [
    "# STEP 1: Visualise the data \n",
    "\n",
    "- plot distribution \n",
    "- do this for (a) match outcome, (b), kills per minute (per team), (c) communication frequency (words per minute; per team), (d) communication distribution (variance; per team)\n",
    "\n"
   ]
  },
  {
   "cell_type": "code",
   "execution_count": 1,
   "id": "7fb1e02e-a7fd-45f1-8906-775debdea426",
   "metadata": {},
   "outputs": [
    {
     "data": {
      "text/html": [
       "<div>\n",
       "<style scoped>\n",
       "    .dataframe tbody tr th:only-of-type {\n",
       "        vertical-align: middle;\n",
       "    }\n",
       "\n",
       "    .dataframe tbody tr th {\n",
       "        vertical-align: top;\n",
       "    }\n",
       "\n",
       "    .dataframe thead th {\n",
       "        text-align: right;\n",
       "    }\n",
       "</style>\n",
       "<table border=\"1\" class=\"dataframe\">\n",
       "  <thead>\n",
       "    <tr style=\"text-align: right;\">\n",
       "      <th></th>\n",
       "      <th>teamNumber</th>\n",
       "      <th>matchDuration</th>\n",
       "      <th>totalWords</th>\n",
       "      <th>meanWordsPerSecond</th>\n",
       "      <th>meanWordsPerMinute</th>\n",
       "      <th>varianceOfWords</th>\n",
       "      <th>rawMeanSentiment</th>\n",
       "      <th>meanSentimentWithoutZeros</th>\n",
       "      <th>matchOutcome</th>\n",
       "      <th>winLose</th>\n",
       "      <th>...</th>\n",
       "      <th>cohesion_50_percent</th>\n",
       "      <th>cohesion_75_percent</th>\n",
       "      <th>cohesion_max</th>\n",
       "      <th>satisfaction_mean</th>\n",
       "      <th>satisfaction_std</th>\n",
       "      <th>satisfaction_min</th>\n",
       "      <th>satisfaction_25_percent</th>\n",
       "      <th>satisfaction_50_percent</th>\n",
       "      <th>satisfaction_75_percent</th>\n",
       "      <th>satisfaction_max</th>\n",
       "    </tr>\n",
       "  </thead>\n",
       "  <tbody>\n",
       "    <tr>\n",
       "      <th>0</th>\n",
       "      <td>1</td>\n",
       "      <td>1509.8</td>\n",
       "      <td>1825</td>\n",
       "      <td>1.209</td>\n",
       "      <td>72.54</td>\n",
       "      <td>80.372</td>\n",
       "      <td>0.111</td>\n",
       "      <td>0.203</td>\n",
       "      <td>0</td>\n",
       "      <td>lose</td>\n",
       "      <td>...</td>\n",
       "      <td>6.000000</td>\n",
       "      <td>6.250000</td>\n",
       "      <td>6.500000</td>\n",
       "      <td>6.166667</td>\n",
       "      <td>0.803638</td>\n",
       "      <td>5.25</td>\n",
       "      <td>5.875</td>\n",
       "      <td>6.50</td>\n",
       "      <td>6.625</td>\n",
       "      <td>6.75</td>\n",
       "    </tr>\n",
       "    <tr>\n",
       "      <th>1</th>\n",
       "      <td>2</td>\n",
       "      <td>1778.1</td>\n",
       "      <td>2271</td>\n",
       "      <td>1.277</td>\n",
       "      <td>76.62</td>\n",
       "      <td>68.808</td>\n",
       "      <td>0.095</td>\n",
       "      <td>0.169</td>\n",
       "      <td>1</td>\n",
       "      <td>win</td>\n",
       "      <td>...</td>\n",
       "      <td>6.000000</td>\n",
       "      <td>6.000000</td>\n",
       "      <td>6.833333</td>\n",
       "      <td>6.700000</td>\n",
       "      <td>0.325960</td>\n",
       "      <td>6.25</td>\n",
       "      <td>6.500</td>\n",
       "      <td>6.75</td>\n",
       "      <td>7.000</td>\n",
       "      <td>7.00</td>\n",
       "    </tr>\n",
       "    <tr>\n",
       "      <th>2</th>\n",
       "      <td>3</td>\n",
       "      <td>1599.8</td>\n",
       "      <td>2867</td>\n",
       "      <td>1.792</td>\n",
       "      <td>107.52</td>\n",
       "      <td>113.542</td>\n",
       "      <td>0.073</td>\n",
       "      <td>0.127</td>\n",
       "      <td>1</td>\n",
       "      <td>win</td>\n",
       "      <td>...</td>\n",
       "      <td>6.666667</td>\n",
       "      <td>6.750000</td>\n",
       "      <td>6.833333</td>\n",
       "      <td>6.916667</td>\n",
       "      <td>0.144338</td>\n",
       "      <td>6.75</td>\n",
       "      <td>6.875</td>\n",
       "      <td>7.00</td>\n",
       "      <td>7.000</td>\n",
       "      <td>7.00</td>\n",
       "    </tr>\n",
       "    <tr>\n",
       "      <th>3</th>\n",
       "      <td>4</td>\n",
       "      <td>1388.6</td>\n",
       "      <td>2702</td>\n",
       "      <td>1.946</td>\n",
       "      <td>116.76</td>\n",
       "      <td>198.309</td>\n",
       "      <td>0.090</td>\n",
       "      <td>0.135</td>\n",
       "      <td>1</td>\n",
       "      <td>win</td>\n",
       "      <td>...</td>\n",
       "      <td>5.833333</td>\n",
       "      <td>6.166667</td>\n",
       "      <td>6.166667</td>\n",
       "      <td>6.200000</td>\n",
       "      <td>0.647109</td>\n",
       "      <td>5.50</td>\n",
       "      <td>5.750</td>\n",
       "      <td>6.00</td>\n",
       "      <td>6.750</td>\n",
       "      <td>7.00</td>\n",
       "    </tr>\n",
       "    <tr>\n",
       "      <th>4</th>\n",
       "      <td>5</td>\n",
       "      <td>1175.9</td>\n",
       "      <td>2417</td>\n",
       "      <td>2.056</td>\n",
       "      <td>123.36</td>\n",
       "      <td>133.977</td>\n",
       "      <td>0.100</td>\n",
       "      <td>0.147</td>\n",
       "      <td>1</td>\n",
       "      <td>win</td>\n",
       "      <td>...</td>\n",
       "      <td>6.833333</td>\n",
       "      <td>7.000000</td>\n",
       "      <td>7.000000</td>\n",
       "      <td>6.800000</td>\n",
       "      <td>0.447214</td>\n",
       "      <td>6.00</td>\n",
       "      <td>7.000</td>\n",
       "      <td>7.00</td>\n",
       "      <td>7.000</td>\n",
       "      <td>7.00</td>\n",
       "    </tr>\n",
       "  </tbody>\n",
       "</table>\n",
       "<p>5 rows × 61 columns</p>\n",
       "</div>"
      ],
      "text/plain": [
       "   teamNumber  matchDuration  totalWords  meanWordsPerSecond  \\\n",
       "0           1         1509.8        1825               1.209   \n",
       "1           2         1778.1        2271               1.277   \n",
       "2           3         1599.8        2867               1.792   \n",
       "3           4         1388.6        2702               1.946   \n",
       "4           5         1175.9        2417               2.056   \n",
       "\n",
       "   meanWordsPerMinute  varianceOfWords  rawMeanSentiment  \\\n",
       "0               72.54           80.372             0.111   \n",
       "1               76.62           68.808             0.095   \n",
       "2              107.52          113.542             0.073   \n",
       "3              116.76          198.309             0.090   \n",
       "4              123.36          133.977             0.100   \n",
       "\n",
       "   meanSentimentWithoutZeros  matchOutcome winLose  ...  cohesion_50_percent  \\\n",
       "0                      0.203             0    lose  ...             6.000000   \n",
       "1                      0.169             1     win  ...             6.000000   \n",
       "2                      0.127             1     win  ...             6.666667   \n",
       "3                      0.135             1     win  ...             5.833333   \n",
       "4                      0.147             1     win  ...             6.833333   \n",
       "\n",
       "   cohesion_75_percent  cohesion_max  satisfaction_mean  satisfaction_std  \\\n",
       "0             6.250000      6.500000           6.166667          0.803638   \n",
       "1             6.000000      6.833333           6.700000          0.325960   \n",
       "2             6.750000      6.833333           6.916667          0.144338   \n",
       "3             6.166667      6.166667           6.200000          0.647109   \n",
       "4             7.000000      7.000000           6.800000          0.447214   \n",
       "\n",
       "   satisfaction_min  satisfaction_25_percent  satisfaction_50_percent  \\\n",
       "0              5.25                    5.875                     6.50   \n",
       "1              6.25                    6.500                     6.75   \n",
       "2              6.75                    6.875                     7.00   \n",
       "3              5.50                    5.750                     6.00   \n",
       "4              6.00                    7.000                     7.00   \n",
       "\n",
       "   satisfaction_75_percent  satisfaction_max  \n",
       "0                    6.625              6.75  \n",
       "1                    7.000              7.00  \n",
       "2                    7.000              7.00  \n",
       "3                    6.750              7.00  \n",
       "4                    7.000              7.00  \n",
       "\n",
       "[5 rows x 61 columns]"
      ]
     },
     "execution_count": 1,
     "metadata": {},
     "output_type": "execute_result"
    }
   ],
   "source": [
    "# import the data\n",
    "\n",
    "import pandas as pd\n",
    "\n",
    "full_summary_stats_df = pd.read_csv(r\"D:\\Projects\\UG-league-project\\data\\full-summary-stats.csv\")\n",
    "\n",
    "full_summary_stats_df.head()"
   ]
  },
  {
   "cell_type": "markdown",
   "id": "e6d20b2f-685e-43d5-a638-459e5d705628",
   "metadata": {},
   "source": [
    "## plot the distributions\n",
    "### What is the distribution of match durations (in seconds)?\n"
   ]
  },
  {
   "cell_type": "code",
   "execution_count": 2,
   "id": "32e13897-538b-4f99-a4ba-515af138c170",
   "metadata": {},
   "outputs": [
    {
     "name": "stdout",
     "output_type": "stream",
     "text": [
      "mean match duration is:  1691.504 seconds\n"
     ]
    },
    {
     "data": {
      "image/png": "[encoded data removed]",
      "text/plain": [
       "<Figure size 1080x360 with 1 Axes>"
      ]
     },
     "metadata": {
      "needs_background": "light"
     },
     "output_type": "display_data"
    },
    {
     "data": {
      "image/png": "[encoded data removed]",
      "text/plain": [
       "<Figure size 360x360 with 1 Axes>"
      ]
     },
     "metadata": {
      "needs_background": "light"
     },
     "output_type": "display_data"
    }
   ],
   "source": [
    "import seaborn as sns\n",
    "import matplotlib.pyplot as plt\n",
    "\n",
    "mean_match_duration = full_summary_stats_df[\"matchDuration\"].mean()\n",
    "print('mean match duration is: ', round(mean_match_duration, 3), 'seconds')\n",
    "\n",
    "# what is the distribution of match duration by team?\n",
    "f, ax = plt.subplots(figsize= (15, 5)) # set the size of the graph so all team numbers can be seen\n",
    "sns.barplot(data = full_summary_stats_df, y= \"matchDuration\", x = \"teamNumber\", color = \"lightsteelblue\") # find colors here \"https://matplotlib.org/stable/gallery/color/named_colors.html\"\n",
    "\n",
    "# what is the distribution of the count of match durations?\n",
    "ax = sns.displot(full_summary_stats_df, x = \"matchDuration\", color = \"lavender\")\n",
    "ax.set(xlabel = \"Match Duration\", ylabel = \"Count\")\n",
    "\n",
    "ax.savefig(r\"../match-duration.png\")"
   ]
  },
  {
   "cell_type": "markdown",
   "id": "4fb23bb2-88ba-4dba-8369-103f296e8e71",
   "metadata": {},
   "source": [
    "## What is the distribution of kills per minute?"
   ]
  },
  {
   "cell_type": "code",
   "execution_count": 3,
   "id": "1aee7bb7-bb5a-4918-a68e-3f486cf98ef3",
   "metadata": {},
   "outputs": [
    {
     "name": "stdout",
     "output_type": "stream",
     "text": [
      "mean kills per minute is:  1.137\n"
     ]
    },
    {
     "data": {
      "image/png": "[encoded data removed]",
      "text/plain": [
       "<Figure size 1080x360 with 1 Axes>"
      ]
     },
     "metadata": {
      "needs_background": "light"
     },
     "output_type": "display_data"
    },
    {
     "data": {
      "image/png": "[encoded data removed]",
      "text/plain": [
       "<Figure size 360x360 with 1 Axes>"
      ]
     },
     "metadata": {
      "needs_background": "light"
     },
     "output_type": "display_data"
    }
   ],
   "source": [
    "mean_kpm = full_summary_stats_df[\"killsPerMinute\"].mean()\n",
    "print('mean kills per minute is: ', round(mean_kpm, 3))\n",
    "\n",
    "# what is the distribution of killsPerMinute by team?\n",
    "f, ax = plt.subplots(figsize= (15, 5))\n",
    "sns.barplot(data = full_summary_stats_df, y = \"killsPerMinute\", x = \"teamNumber\", color = \"cornflowerblue\")\n",
    "\n",
    "# what is the distribution of the count of killsPerMinute?\n",
    "ax = sns.displot(full_summary_stats_df, x = \"killsPerMinute\")\n",
    "ax.savefig(r\"../graphs/kpm-distribution.png\")"
   ]
  },
  {
   "cell_type": "markdown",
   "id": "751273d7-23eb-49df-9461-cd30190d91f6",
   "metadata": {},
   "source": [
    "## What is the duration of communication frequency?\n"
   ]
  },
  {
   "cell_type": "code",
   "execution_count": 4,
   "id": "dcc1e566-f12d-4f0d-b0c4-21f976b1ae0a",
   "metadata": {},
   "outputs": [
    {
     "name": "stdout",
     "output_type": "stream",
     "text": [
      "mean words per second across teams is:  81.978\n"
     ]
    },
    {
     "data": {
      "image/png": "[encoded data removed]",
      "text/plain": [
       "<Figure size 1080x360 with 1 Axes>"
      ]
     },
     "metadata": {
      "needs_background": "light"
     },
     "output_type": "display_data"
    },
    {
     "data": {
      "image/png": "[encoded data removed]",
      "text/plain": [
       "<Figure size 360x360 with 1 Axes>"
      ]
     },
     "metadata": {
      "needs_background": "light"
     },
     "output_type": "display_data"
    }
   ],
   "source": [
    "mean_wps = full_summary_stats_df[\"meanWordsPerMinute\"].mean()\n",
    "print('mean words per second across teams is: ', round(mean_wps, 3))\n",
    "\n",
    "# what is the distribution of killsPerMinute by team?\n",
    "f, ax = plt.subplots(figsize= (15, 5))\n",
    "sns.barplot(data = full_summary_stats_df, y = \"meanWordsPerMinute\", x = \"teamNumber\", color = \"orange\")\n",
    "\n",
    "# what is the distribution of the count of killsPerMinute?\n",
    "ax = sns.displot(full_summary_stats_df, x = \"meanWordsPerMinute\", color = \"papayawhip\")\n",
    "\n",
    "ax.set(xlabel = \"Mean Words Per Minute\", ylabel = \"Count\")\n",
    "ax.savefig(r\"../graphs/wpm-distribution.png\")\n"
   ]
  },
  {
   "cell_type": "markdown",
   "id": "8c7c0238-06ca-4656-a60c-394ce1fcee3b",
   "metadata": {},
   "source": [
    "## What is the distribution of communication variance?\n"
   ]
  },
  {
   "cell_type": "code",
   "execution_count": 5,
   "id": "29b94422-5d69-4d5e-8e0c-acd04f6b7068",
   "metadata": {},
   "outputs": [
    {
     "name": "stdout",
     "output_type": "stream",
     "text": [
      "mean word variance across teams is:  69.994\n",
      "winLose\n",
      "lose    69.0\n",
      "win     70.0\n",
      "Name: varianceOfWords, dtype: float64 3\n"
     ]
    },
    {
     "data": {
      "image/png": "[encoded data removed]",
      "text/plain": [
       "<Figure size 1080x360 with 1 Axes>"
      ]
     },
     "metadata": {
      "needs_background": "light"
     },
     "output_type": "display_data"
    },
    {
     "data": {
      "image/png": "[encoded data removed]",
      "text/plain": [
       "<Figure size 360x360 with 1 Axes>"
      ]
     },
     "metadata": {
      "needs_background": "light"
     },
     "output_type": "display_data"
    }
   ],
   "source": [
    "grouped_df = full_summary_stats_df.groupby(\"winLose\")\n",
    "word_variance_by_winning_losing_group = grouped_df[\"varianceOfWords\"].mean()\n",
    "mean_word_variance = full_summary_stats_df[\"varianceOfWords\"].mean()\n",
    "\n",
    "print('mean word variance across teams is: ', round(mean_word_variance, 3))\n",
    "\n",
    "print(round(word_variance_by_winning_losing_group), 3)\n",
    "\n",
    "# mean variance of communication in winning vs losing teams\n",
    "#word_variance_in_winning_teams = \n",
    "#word_variance_in_losing_teams = \n",
    "\n",
    "# what is the distribution of killsPerMinute by team?\n",
    "f, ax = plt.subplots(figsize= (15, 5))\n",
    "sns.barplot(data = full_summary_stats_df, y = \"varianceOfWords\", x = \"teamNumber\", color = \"olive\")\n",
    "\n",
    "\n",
    "# what is the distribution of the count of killsPerMinute?\n",
    "ax = sns.displot(full_summary_stats_df, x = \"varianceOfWords\", color = \"grey\")\n",
    "ax.set(xlabel = \"Word Variance over Match Duration\", ylabel = \"Count\")\n",
    "ax.savefig(r\"../graphs/variance-wpm-distribution.png\")"
   ]
  },
  {
   "cell_type": "markdown",
   "id": "a7f0b912-82f4-4e88-849f-487f3f8357f2",
   "metadata": {},
   "source": [
    "## What is the distribution of wins and losses?\n"
   ]
  },
  {
   "cell_type": "code",
   "execution_count": 6,
   "id": "94d2527f-9ce0-4825-93b4-ece184975226",
   "metadata": {},
   "outputs": [
    {
     "name": "stdout",
     "output_type": "stream",
     "text": [
      "Number of teams that won:  36\n",
      "Number of teams that lost:  13\n"
     ]
    },
    {
     "data": {
      "image/png": "[encoded data removed]",
      "text/plain": [
       "<Figure size 360x360 with 1 Axes>"
      ]
     },
     "metadata": {
      "needs_background": "light"
     },
     "output_type": "display_data"
    }
   ],
   "source": [
    "# what is the number of wins and losses?\n",
    "number_of_wins = full_summary_stats_df[\"matchOutcome\"].sum()\n",
    "\n",
    "print(\"Number of teams that won: \", number_of_wins)\n",
    "print(\"Number of teams that lost: \", (49 - number_of_wins))\n",
    "\n",
    "\n",
    "# what is the distribution of the count of match outcome?\n",
    "ax = sns.catplot(data = full_summary_stats_df, x = \"winLose\", kind = \"count\",  palette = \"bone_r\")\n",
    "ax.set(xlabel = \"Match Outcome\", ylabel = \"Count\")\n",
    "ax.savefig(r\"../graphs/match-outcome-distribution.png\")"
   ]
  },
  {
   "cell_type": "markdown",
   "id": "c8434925-bc7f-4aac-9435-781a1a8fadfd",
   "metadata": {},
   "source": [
    "### is this difference in wins and losses significant?\n",
    "- run chi squared test to find out\n"
   ]
  },
  {
   "cell_type": "code",
   "execution_count": 7,
   "id": "a7a0e470-0009-41c7-a870-0e1228ae1155",
   "metadata": {},
   "outputs": [],
   "source": [
    "## code for running chi squared test here"
   ]
  },
  {
   "cell_type": "code",
   "execution_count": null,
   "id": "6ae93248-15e6-4b45-bf6b-448fda8ca373",
   "metadata": {},
   "outputs": [],
   "source": []
  },
  {
   "cell_type": "markdown",
   "id": "a1fe0fbd-ef87-49d1-a4f8-c7e22878b24c",
   "metadata": {},
   "source": [
    "## What is the distribution of Cohesion means?"
   ]
  },
  {
   "cell_type": "code",
   "execution_count": 8,
   "id": "56b2f4f0-caba-4048-93ea-b2c898b1342a",
   "metadata": {},
   "outputs": [
    {
     "name": "stdout",
     "output_type": "stream",
     "text": [
      "mean level of cohesion:  6.071\n"
     ]
    },
    {
     "data": {
      "image/png": "[encoded data removed]",
      "text/plain": [
       "<Figure size 1080x360 with 1 Axes>"
      ]
     },
     "metadata": {
      "needs_background": "light"
     },
     "output_type": "display_data"
    },
    {
     "data": {
      "image/png": "[encoded data removed]",
      "text/plain": [
       "<Figure size 360x360 with 1 Axes>"
      ]
     },
     "metadata": {
      "needs_background": "light"
     },
     "output_type": "display_data"
    }
   ],
   "source": [
    "mean_cohesion_of_group = full_summary_stats_df[\"cohesion_mean\"].mean() #cohesion is scored on 7-point scale\n",
    "print('mean level of cohesion: ', round(mean_cohesion_of_group, 3))\n",
    "\n",
    "# what is the distribution of killsPerMinute by team?\n",
    "f, ax = plt.subplots(figsize= (15, 5))\n",
    "sns.barplot(data = full_summary_stats_df, y = \"cohesion_mean\", x = \"teamNumber\", color = \"saddlebrown\")\n",
    "\n",
    "# what is the distribution of the count of killsPerMinute?\n",
    "ax = sns.displot(full_summary_stats_df, x = \"cohesion_mean\", color = \"sandybrown\")\n",
    "ax.set(xlabel = \"Mean Team Cohesion\", ylabel = \"Count\")\n",
    "ax.savefig(r\"../graphs/cohesion-mean-distribution.png\")"
   ]
  },
  {
   "cell_type": "markdown",
   "id": "8bd25440-0b03-4b22-9c2f-eede3be271eb",
   "metadata": {},
   "source": [
    "## What is the distribution of cohesion variance?"
   ]
  },
  {
   "cell_type": "code",
   "execution_count": 9,
   "id": "377e1545-2787-40e4-a870-8d287c49f039",
   "metadata": {},
   "outputs": [
    {
     "name": "stdout",
     "output_type": "stream",
     "text": [
      "mean std dev of cohesion:  0.554\n"
     ]
    },
    {
     "data": {
      "text/plain": [
       "<seaborn.axisgrid.FacetGrid at 0x1f1ba4e4520>"
      ]
     },
     "execution_count": 9,
     "metadata": {},
     "output_type": "execute_result"
    },
    {
     "data": {
      "image/png": "[encoded data removed]",
      "text/plain": [
       "<Figure size 1080x360 with 1 Axes>"
      ]
     },
     "metadata": {
      "needs_background": "light"
     },
     "output_type": "display_data"
    },
    {
     "data": {
      "image/png": "[encoded data removed]",
      "text/plain": [
       "<Figure size 360x360 with 1 Axes>"
      ]
     },
     "metadata": {
      "needs_background": "light"
     },
     "output_type": "display_data"
    }
   ],
   "source": [
    "stdev_cohesion_of_group = full_summary_stats_df[\"cohesion_std\"].mean() #cohesion is scored on 7-point scale\n",
    "print('mean std dev of cohesion: ', round(stdev_cohesion_of_group, 3))\n",
    "\n",
    "# what is the distribution of killsPerMinute by team?\n",
    "f, ax = plt.subplots(figsize= (15, 5))\n",
    "sns.barplot(data = full_summary_stats_df, y = \"cohesion_std\", x = \"teamNumber\", color = \"palevioletred\")\n",
    "\n",
    "# what is the distribution of the count of killsPerMinute?\n",
    "sns.displot(full_summary_stats_df, x = \"cohesion_std\", color = \"lightpink\")"
   ]
  },
  {
   "cell_type": "markdown",
   "id": "b825f057-d42e-4125-8c01-498134d54c30",
   "metadata": {},
   "source": [
    "## What is the distribution of Satisfaction means?"
   ]
  },
  {
   "cell_type": "code",
   "execution_count": 10,
   "id": "1cc83915-8363-4810-b687-9e2d1a4845f1",
   "metadata": {},
   "outputs": [
    {
     "name": "stdout",
     "output_type": "stream",
     "text": [
      "mean level of satisfaction:  6.248\n"
     ]
    },
    {
     "data": {
      "image/png": "[encoded data removed]",
      "text/plain": [
       "<Figure size 1080x360 with 1 Axes>"
      ]
     },
     "metadata": {
      "needs_background": "light"
     },
     "output_type": "display_data"
    },
    {
     "data": {
      "image/png": "[encoded data removed]",
      "text/plain": [
       "<Figure size 360x360 with 1 Axes>"
      ]
     },
     "metadata": {
      "needs_background": "light"
     },
     "output_type": "display_data"
    }
   ],
   "source": [
    "mean_satisfaction_of_group = full_summary_stats_df[\"satisfaction_mean\"].mean() #satisfaction is scored on 7-point scale\n",
    "print('mean level of satisfaction: ', round(mean_satisfaction_of_group, 3))\n",
    "\n",
    "# what is the distribution of satisaction scores by team?\n",
    "f, ax = plt.subplots(figsize= (15, 5))\n",
    "sns.barplot(data = full_summary_stats_df, y = \"satisfaction_mean\", x = \"teamNumber\", color = \"indigo\")\n",
    "\n",
    "# what is the distribution of the count of satisfaction means?\n",
    "ax = sns.displot(full_summary_stats_df, x = \"satisfaction_mean\", color = \"darkslateblue\")\n",
    "ax.set(xlabel = \"Mean Team Satisfaction\", ylabel = \"Count\")\n",
    "ax.savefig(r\"../graphs/satisfaction-mean-distribution.png\")"
   ]
  },
  {
   "cell_type": "markdown",
   "id": "2a53d7ca-5d6d-4d0e-ab48-2a467515f433",
   "metadata": {},
   "source": [
    "## What is the distribution of Satisfaction standard devs?"
   ]
  },
  {
   "cell_type": "code",
   "execution_count": 11,
   "id": "1907b6e3-ed4d-4a01-8a6f-70c920111179",
   "metadata": {},
   "outputs": [
    {
     "name": "stdout",
     "output_type": "stream",
     "text": [
      "mean std dev of satisfaction:  0.457\n"
     ]
    },
    {
     "data": {
      "text/plain": [
       "<seaborn.axisgrid.FacetGrid at 0x1f1ba99b7c0>"
      ]
     },
     "execution_count": 11,
     "metadata": {},
     "output_type": "execute_result"
    },
    {
     "data": {
      "image/png": "[encoded data removed]",
      "text/plain": [
       "<Figure size 1080x360 with 1 Axes>"
      ]
     },
     "metadata": {
      "needs_background": "light"
     },
     "output_type": "display_data"
    },
    {
     "data": {
      "image/png": "[encoded data removed]",
      "text/plain": [
       "<Figure size 360x360 with 1 Axes>"
      ]
     },
     "metadata": {
      "needs_background": "light"
     },
     "output_type": "display_data"
    }
   ],
   "source": [
    "mean_satisfaction_of_group = full_summary_stats_df[\"satisfaction_std\"].mean() #cohesion is scored on 7-point scale\n",
    "print('mean std dev of satisfaction: ', round(mean_satisfaction_of_group, 3))\n",
    "\n",
    "# what is the distribution of satisfaction std dev by team?\n",
    "f, ax = plt.subplots(figsize= (15, 5))\n",
    "sns.barplot(data = full_summary_stats_df, y = \"satisfaction_std\", x = \"teamNumber\", color = \"darkcyan\")\n",
    "\n",
    "# what is the distribution of the count of satisfaction std dev?\n",
    "sns.displot(full_summary_stats_df, x = \"satisfaction_std\", color = \"azure\")"
   ]
  },
  {
   "cell_type": "markdown",
   "id": "9c9073f2-f3ef-44c5-938e-9ff49fe95b84",
   "metadata": {},
   "source": [
    "# STEP 2: Visualise the relationship between variables \n",
    "- create scatter plots"
   ]
  },
  {
   "cell_type": "code",
   "execution_count": 12,
   "id": "0d4534ab-9148-4215-a635-c1f1784d01e5",
   "metadata": {},
   "outputs": [],
   "source": [
    "# based on this tutorial : http://seaborn.pydata.org/tutorial/relational.html#relational-tutorial\n",
    "\n",
    "import numpy as np\n",
    "import pandas as pd \n",
    "import matplotlib.pyplot as plt\n",
    "import seaborn as sns\n",
    "import scipy.stats"
   ]
  },
  {
   "cell_type": "markdown",
   "id": "1b25a6b1-2e7c-4540-9d30-a89f370e87fb",
   "metadata": {},
   "source": [
    "# Communication-Performance Relationship"
   ]
  },
  {
   "cell_type": "markdown",
   "id": "bd06b0a0-1282-4c64-b77b-da6ce6fbc281",
   "metadata": {},
   "source": [
    "## What is the relationship between communication frequency (words per minute), kills per minute, and match outcome?\n",
    "\n"
   ]
  },
  {
   "cell_type": "code",
   "execution_count": null,
   "id": "cdd82cf3-2ed5-4ef6-92be-30fbcdcf1468",
   "metadata": {},
   "outputs": [],
   "source": []
  },
  {
   "cell_type": "markdown",
   "id": "2dcf858e-3549-458f-8087-bfc7c5a1a380",
   "metadata": {},
   "source": [
    "## What is the relationship between communication distribution, kills per minute, and match outcome?\n",
    "\n"
   ]
  },
  {
   "cell_type": "code",
   "execution_count": 13,
   "id": "3d572e84-c286-4c42-9a9d-7e1bf6e9dfed",
   "metadata": {},
   "outputs": [
    {
     "data": {
      "text/plain": [
       "<seaborn.axisgrid.FacetGrid at 0x1f1ba479a30>"
      ]
     },
     "execution_count": 13,
     "metadata": {},
     "output_type": "execute_result"
    },
    {
     "data": {
      "image/png": "[encoded data removed]",
      "text/plain": [
       "<Figure size 360x360 with 1 Axes>"
      ]
     },
     "metadata": {
      "needs_background": "light"
     },
     "output_type": "display_data"
    },
    {
     "data": {
      "image/png": "[encoded data removed]",
      "text/plain": [
       "<Figure size 360x360 with 1 Axes>"
      ]
     },
     "metadata": {
      "needs_background": "light"
     },
     "output_type": "display_data"
    }
   ],
   "source": [
    "# relationship between variance in wpm and kpm\n",
    "ax1 = sns.relplot(data = full_summary_stats_df, x = \"varianceOfWords\", y = \"killsPerMinute\")\n",
    "ax1.set(xlabel = \"variance of communication\", ylabel = \"mean Kills per minute\")\n",
    "\n",
    "\n",
    "# relationship between variance in wpm and match outcome\n",
    "ax2 = sns.catplot(data = full_summary_stats_df, x = \"winLose\", y = \"varianceOfWords\", kind = \"box\")\n",
    "ax2.set(xlabel = \"match outcome\", ylabel = \"variance of communication\")"
   ]
  },
  {
   "cell_type": "markdown",
   "id": "682fb776-7905-4d0e-be55-d6cfaf261313",
   "metadata": {},
   "source": [
    "#### Summary from visualising communication and performance metrics \n",
    "-----------------------------------------------------------------------\n",
    "- winning teams communicate more than losing teams\n",
    "- but there seems to be no difference in how much communication is distributed within a team \n",
    "- looking at the visualisation of communication distribution in the whole sample, communication tends to be more hierarchical\n",
    "- this initial visualisation suggests that in teams of strangers, having a single leader who is constantly communicating is more effective than having a single leader who doesn't communicate frequently --> will be able to get this info using Otter.ai"
   ]
  },
  {
   "cell_type": "markdown",
   "id": "aa618f6b-b6c5-477e-9ad3-ac9f580b5f17",
   "metadata": {},
   "source": [
    "# Communication-Cohesion Relationship"
   ]
  },
  {
   "cell_type": "markdown",
   "id": "5a804ee5-2180-4940-b62b-b5dbdfde83c8",
   "metadata": {},
   "source": [
    "## What is the relationship between communication frequency, distribution, and team cohesion?"
   ]
  },
  {
   "cell_type": "code",
   "execution_count": 14,
   "id": "dbe42ed9-cdee-4567-9dd8-48de0961aaea",
   "metadata": {},
   "outputs": [
    {
     "data": {
      "text/plain": [
       "<seaborn.axisgrid.FacetGrid at 0x1f1b6df5400>"
      ]
     },
     "execution_count": 14,
     "metadata": {},
     "output_type": "execute_result"
    },
    {
     "data": {
      "image/png": "[encoded data removed]",
      "text/plain": [
       "<Figure size 360x360 with 1 Axes>"
      ]
     },
     "metadata": {
      "needs_background": "light"
     },
     "output_type": "display_data"
    },
    {
     "data": {
      "image/png": "[encoded data removed]",
      "text/plain": [
       "<Figure size 360x360 with 1 Axes>"
      ]
     },
     "metadata": {
      "needs_background": "light"
     },
     "output_type": "display_data"
    }
   ],
   "source": [
    "\n",
    "# relationship between mean wpm and mean cohesion\n",
    "ax1 = sns.relplot(data = full_summary_stats_df, x = \"meanWordsPerMinute\", y = \"cohesion_mean\")\n",
    "ax1.set(xlabel = \"mean Words per minute\", ylabel = \"team cohesion\")\n",
    "\n",
    "\n",
    "# relationship between variance of words and mean cohesion\n",
    "ax2 = sns.relplot(data = full_summary_stats_df, x = \"varianceOfWords\", y = \"cohesion_mean\")\n",
    "ax2.set(xlabel = \"distribution of communication in team\", ylabel = \"team cohesion\")"
   ]
  },
  {
   "cell_type": "code",
   "execution_count": 15,
   "id": "08625b56-659a-4bb8-be1f-cd2b436d6b6b",
   "metadata": {},
   "outputs": [
    {
     "ename": "AttributeError",
     "evalue": "'JointGrid' object has no attribute 'set'",
     "output_type": "error",
     "traceback": [
      "\u001b[1;31m---------------------------------------------------------------------------\u001b[0m",
      "\u001b[1;31mAttributeError\u001b[0m                            Traceback (most recent call last)",
      "\u001b[1;32m<ipython-input-15-5f94b613d83b>\u001b[0m in \u001b[0;36m<module>\u001b[1;34m\u001b[0m\n\u001b[0;32m      1\u001b[0m \u001b[1;31m# jointplot of distribution of variables and their relationships\u001b[0m\u001b[1;33m\u001b[0m\u001b[1;33m\u001b[0m\u001b[1;33m\u001b[0m\u001b[0m\n\u001b[0;32m      2\u001b[0m \u001b[0max\u001b[0m \u001b[1;33m=\u001b[0m \u001b[0msns\u001b[0m\u001b[1;33m.\u001b[0m\u001b[0mjointplot\u001b[0m\u001b[1;33m(\u001b[0m\u001b[0mdata\u001b[0m \u001b[1;33m=\u001b[0m \u001b[0mfull_summary_stats_df\u001b[0m\u001b[1;33m,\u001b[0m \u001b[0mx\u001b[0m \u001b[1;33m=\u001b[0m \u001b[1;34m\"meanWordsPerMinute\"\u001b[0m\u001b[1;33m,\u001b[0m \u001b[0my\u001b[0m \u001b[1;33m=\u001b[0m \u001b[1;34m\"cohesion_mean\"\u001b[0m\u001b[1;33m)\u001b[0m\u001b[1;33m\u001b[0m\u001b[1;33m\u001b[0m\u001b[0m\n\u001b[1;32m----> 3\u001b[1;33m \u001b[0max\u001b[0m\u001b[1;33m.\u001b[0m\u001b[0mset\u001b[0m\u001b[1;33m(\u001b[0m\u001b[0mxlabel\u001b[0m \u001b[1;33m=\u001b[0m \u001b[1;34m\"words per minute\"\u001b[0m\u001b[1;33m,\u001b[0m \u001b[0mylabel\u001b[0m \u001b[1;33m=\u001b[0m \u001b[1;34m\"mean cohesion\"\u001b[0m\u001b[1;33m)\u001b[0m\u001b[1;33m\u001b[0m\u001b[1;33m\u001b[0m\u001b[0m\n\u001b[0m\u001b[0;32m      4\u001b[0m \u001b[0max\u001b[0m\u001b[1;33m.\u001b[0m\u001b[0msavefig\u001b[0m\u001b[1;33m(\u001b[0m\u001b[1;34m\"jointplot.png\"\u001b[0m\u001b[1;33m)\u001b[0m\u001b[1;33m\u001b[0m\u001b[1;33m\u001b[0m\u001b[0m\n",
      "\u001b[1;31mAttributeError\u001b[0m: 'JointGrid' object has no attribute 'set'"
     ]
    },
    {
     "data": {
      "image/png": "[encoded data removed]",
      "text/plain": [
       "<Figure size 432x432 with 3 Axes>"
      ]
     },
     "metadata": {
      "needs_background": "light"
     },
     "output_type": "display_data"
    }
   ],
   "source": [
    "# jointplot of distribution of variables and their relationships\n",
    "ax = sns.jointplot(data = full_summary_stats_df, x = \"words per minute\", y = \"mean cohesion\")\n",
    "ax.savefig(\"jointplot.png\")"
   ]
  },
  {
   "cell_type": "markdown",
   "id": "a356307f-7b4c-44d8-be6b-f486a13cb8e3",
   "metadata": {},
   "source": [
    "### calculate the correlation between communication and cohesion\n",
    "- use this for reference https://realpython.com/numpy-scipy-pandas-correlation-python/"
   ]
  },
  {
   "cell_type": "code",
   "execution_count": null,
   "id": "bcdb4af8-de75-4fa2-a18d-84127c7dafea",
   "metadata": {},
   "outputs": [],
   "source": [
    "# retrieve column of interest\n",
    "mean_cohesion_column = full_summary_stats_df.loc[:, \"cohesion_mean\"]\n",
    "mean_wpm_column = full_summary_stats_df.loc[:, \"meanWordsPerMinute\"]\n",
    "dist_communication_column = full_summary_stats_df.loc[:, \"varianceOfWords\"]\n",
    "\n",
    "# convert column into array\n",
    "mean_cohesion_array = mean_cohesion_column.values\n",
    "mean_wpm_array = mean_wpm_column.values\n",
    "dist_communication_array = dist_communication_column.values\n"
   ]
  },
  {
   "cell_type": "code",
   "execution_count": null,
   "id": "54f63890-4483-4a22-ae6f-f8038ac7cd48",
   "metadata": {},
   "outputs": [],
   "source": [
    "# calculate correlation coefficient matrix\n",
    "\n",
    "corrcoef_cohesion_and_wpm = np.corrcoef(mean_wpm_array, mean_cohesion_array)\n",
    "corrcoef_cohesion_and_wordvariance = np.corrcoef(dist_communication_array, mean_cohesion_array)\n",
    "\n",
    "print(\"cohesion-wpm: \", corrcoef_cohesion_and_wpm)\n",
    "\n",
    "print(\"cohesion-wordvariance: \", corrcoef_cohesion_and_wordvariance)"
   ]
  },
  {
   "cell_type": "markdown",
   "id": "47041a2a-bd93-4d8a-beba-31d45f9b35c9",
   "metadata": {},
   "source": [
    "### Pearson's r\n",
    "- assumptions: For the Pearson r correlation, both variables should be normally distributed (normally distributed variables have a bell-shaped curve).  Other assumptions include linearity and homoscedasticity.  Linearity assumes a straight line relationship between each of the two variables and homoscedasticity assumes that data is equally distributed about the regression line.\n",
    "- https://www.statisticssolutions.com/free-resources/directory-of-statistical-analyses/correlation-pearson-kendall-spearman/"
   ]
  },
  {
   "cell_type": "code",
   "execution_count": null,
   "id": "2de2887f-b5ce-46d1-8e52-1b591856136b",
   "metadata": {},
   "outputs": [],
   "source": [
    "# calculate Pearsons correlation with p value ; for cohesion and wpm\n",
    "\n",
    "calculate_pearsons_r = scipy.stats.pearsonr(mean_wpm_array, mean_cohesion_array)\n",
    "\n",
    "print(\"Pearson's r: \", calculate_pearsons_r[0])\n",
    "print(\"p-value: \", calculate_pearsons_r[1])\n",
    "\n",
    "if calculate_pearsons_r[1] < 0.05: \n",
    "    print(\"Significant correlation found\")\n",
    "    \n",
    "else: \n",
    "    print(\"No significant correlation found\")"
   ]
  },
  {
   "cell_type": "code",
   "execution_count": null,
   "id": "a0539af7-c023-4992-9c1a-98fa9e358f73",
   "metadata": {},
   "outputs": [],
   "source": [
    "# calculate Pearsons correlation with p value ; for cohesion and word variance\n",
    "\n",
    "calculate_pearsons_r = scipy.stats.pearsonr(dist_communication_array, mean_cohesion_array)\n",
    "\n",
    "print(\"Pearson's r: \", calculate_pearsons_r[0])\n",
    "print(\"p-value: \", calculate_pearsons_r[1])\n",
    "\n",
    "if calculate_pearsons_r[0] < 0.05: \n",
    "    print(\"Significant correlation found\")\n",
    "    \n",
    "else: \n",
    "    print(\"No significant correlation found\")"
   ]
  },
  {
   "cell_type": "markdown",
   "id": "8ed5f001-9c0c-45ac-a679-d6d253afd84f",
   "metadata": {},
   "source": [
    "### Kendall's tau\n",
    "- assumptions: monotonicity (the relationship between the two variables follows the general direction), fails the assumptions of pearsons\n",
    "- https://www.statstest.com/kendalls-tau/"
   ]
  },
  {
   "cell_type": "code",
   "execution_count": null,
   "id": "619062b8-64b2-4e11-baa1-7651ac711732",
   "metadata": {},
   "outputs": [],
   "source": [
    "# calculate kendall's tau correlation; for cohesion and wpm\n",
    "calculate_kendalls_tau = scipy.stats.kendalltau(mean_wpm_array, mean_cohesion_array)\n",
    "\n",
    "print(\"kendall's tau: \", calculate_kendalls_tau[0])\n",
    "print(\"p-value: \", calculate_kendalls_tau[1])\n",
    "\n",
    "if calculate_kendalls_tau[1] < 0.05: \n",
    "    print(\"Significant correlation found\")\n",
    "    \n",
    "else: \n",
    "    print(\"No significant correlation found\")"
   ]
  },
  {
   "cell_type": "code",
   "execution_count": null,
   "id": "c8459253-e16d-47c0-b027-d7526a87416d",
   "metadata": {},
   "outputs": [],
   "source": [
    "# calculate kendall's tau correlation; for cohesion and wpm\n",
    "calculate_kendalls_tau = scipy.stats.kendalltau(dist_communication_array, mean_cohesion_array)\n",
    "\n",
    "print(\"Pearson's r: \", calculate_kendalls_tau[0])\n",
    "print(\"p-value: \", calculate_kendalls_tau[1])\n",
    "\n",
    "if calculate_kendalls_tau[1] < 0.05: \n",
    "    print(\"Significant correlation found\")\n",
    "    \n",
    "else: \n",
    "    print(\"No significant correlation found\")"
   ]
  },
  {
   "cell_type": "markdown",
   "id": "c6517f65-cb91-4594-b9ec-63d7d209be67",
   "metadata": {},
   "source": [
    "# Cohesion-Performance Relationship"
   ]
  },
  {
   "cell_type": "markdown",
   "id": "4491a1e2-4fdb-414d-9e1b-5eb3d7780fcc",
   "metadata": {},
   "source": [
    "## What is the relationship between cohesion, match outcome, and kills per minute?"
   ]
  },
  {
   "cell_type": "code",
   "execution_count": null,
   "id": "799d350e-19a7-40dd-a0b2-bd83b2c24b7d",
   "metadata": {},
   "outputs": [],
   "source": [
    "# relationship between variance in mean cohesion and kpm\n",
    "ax1 = sns.relplot(data = full_summary_stats_df, x = \"cohesion_mean\", y = \"killsPerMinute\")\n",
    "ax1.set(xlabel = \"team cohesion\", ylabel = \"mean Kills per minute\")\n",
    "\n",
    "\n",
    "# relationship between mean cohesion and match outcome\n",
    "ax2 = sns.catplot(data = full_summary_stats_df, x = \"winLose\", y = \"cohesion_mean\", kind = \"box\")\n",
    "ax2.set(xlabel = \"match outcome\", ylabel = \"team cohesion\")"
   ]
  },
  {
   "cell_type": "markdown",
   "id": "2524fbdf-ea6c-436a-a630-15ec5e5f4c3f",
   "metadata": {},
   "source": [
    "#### Running a logistic regression\n",
    "- https://realpython.com/logistic-regression-python/\n",
    "- https://www.pythonfordatascience.org/logistic-regression-python/\n"
   ]
  },
  {
   "cell_type": "code",
   "execution_count": null,
   "id": "e090ff34-491c-48be-a205-93fa0c0b88a0",
   "metadata": {},
   "outputs": [],
   "source": [
    "# retrieve column of interest\n",
    "mean_cohesion_column = full_summary_stats_df.loc[:, \"cohesion_mean\"]\n",
    "match_outcome_column = full_summary_stats_df.loc[:, \"matchOutcome\"]\n",
    "\n",
    "# convert column into array\n",
    "mean_cohesion_array = mean_cohesion_column.values\n",
    "match_outcome_array = match_outcome_column.values\n",
    "reshaped_mean_cohesion_array = mean_cohesion_array.reshape(-1, 1)"
   ]
  },
  {
   "cell_type": "code",
   "execution_count": null,
   "id": "9fd6f65e-88bc-48c8-ac29-98b827d8e715",
   "metadata": {},
   "outputs": [],
   "source": [
    "import matplotlib.pyplot as plt\n",
    "import numpy as np\n",
    "from sklearn.linear_model import LogisticRegression\n",
    "from sklearn.metrics import classification_report, confusion_matrix\n"
   ]
  },
  {
   "cell_type": "code",
   "execution_count": null,
   "id": "717f92c5-48a2-4eed-8900-a296bd1cde54",
   "metadata": {},
   "outputs": [],
   "source": [
    "model = LogisticRegression(solver='liblinear', random_state=0)\n",
    "\n",
    "model.fit(reshaped_mean_cohesion_array, match_outcome_array)\n",
    "\n"
   ]
  },
  {
   "cell_type": "code",
   "execution_count": null,
   "id": "12b10144-c34c-449a-aa54-d01a42e202e3",
   "metadata": {},
   "outputs": [],
   "source": [
    "print(\"intercept: \", model.intercept_)\n",
    "\n",
    "print(\"coefficient: \", model.coef_)"
   ]
  },
  {
   "cell_type": "code",
   "execution_count": null,
   "id": "efc7eb5d-4a46-402a-adbc-75ec0f1d4193",
   "metadata": {
    "tags": []
   },
   "outputs": [],
   "source": [
    "# Each row corresponds to a single observation\n",
    "# The first column is the probability of the predicted output being zero, that is 1 - 𝑝(𝑥).\n",
    "# The second column is the probability that the output is one, or 𝑝(𝑥).\n",
    "\n",
    "model.predict_proba(reshaped_mean_cohesion_array)"
   ]
  },
  {
   "cell_type": "code",
   "execution_count": null,
   "id": "258bf3f5-1a96-4b84-b80a-2cef0c030c0e",
   "metadata": {},
   "outputs": [],
   "source": [
    "# actual predictions\n",
    "model.predict(reshaped_mean_cohesion_array)"
   ]
  },
  {
   "cell_type": "code",
   "execution_count": null,
   "id": "48e49950-472b-4183-97d4-479af56e77e0",
   "metadata": {},
   "outputs": [],
   "source": [
    "model.score(reshaped_mean_cohesion_array, match_outcome_array)"
   ]
  },
  {
   "cell_type": "markdown",
   "id": "c3df69b5-5bbe-4520-bd0d-f7a930935475",
   "metadata": {},
   "source": [
    "#### Using Statsmodel to run Logistic Regression\n",
    "\n",
    "StatsModels formula api uses Patsy to handle passing the formulas. The pseudo code looks like the following:\n",
    "\n",
    "    smf.logit(\"dependent_variable ~ independent_variable1 + independent_variable2 + independent_variablen\",\n",
    "            data = df).fit()\n",
    "\n",
    "To tell the model that a variable is categorical, it needs to be wrapped in C(independent_variable). The pseudo code with a categorical independent variable looks like:\n",
    "\n",
    "    smf.logit(\"dependent_variable ~ independent_variable1 + C(independent_variable2)\",\n",
    "            data = df).fit()\n",
    "\n",
    "By default, Patsy chooses the first categorical variable as the reference category; it's possible to change the reference category if desired. In order to do this, one needs to specify the reference category while one is specifying the variable is a categorical variable. Pseduo code is as follows:\n",
    "\n",
    "    smf.logit(\"dependent_variable ~ independent_variable1 + C(independent_variable2, Treatment(categorical_group))\",\n",
    "            data = df).fit()\n",
    "\n",
    "Where categorical_group is the desired reference group\n",
    "\n",
    "from https://www.pythonfordatascience.org/logistic-regression-python/"
   ]
  },
  {
   "cell_type": "code",
   "execution_count": null,
   "id": "8b4c4f1e-13fc-48fe-bd5e-fe5d242690f0",
   "metadata": {},
   "outputs": [],
   "source": [
    "## Using Statsmodel to run logistic regression\n",
    "import numpy as np\n",
    "import statsmodels.api as sm"
   ]
  },
  {
   "cell_type": "code",
   "execution_count": null,
   "id": "03031797-ae34-4d9b-91c0-78b5b1d3b7fc",
   "metadata": {},
   "outputs": [],
   "source": [
    "# retrieve column of interest\n",
    "mean_cohesion_column = full_summary_stats_df.loc[:, \"cohesion_mean\"] # cohesion\n",
    "match_outcome_column = full_summary_stats_df.loc[:, \"matchOutcome\"] # match outcome\n",
    "mean_wpm_column = full_summary_stats_df.loc[:, \"meanWordsPerMinute\"] # wpm\n",
    "dist_communication_column = full_summary_stats_df.loc[:, \"varianceOfWords\"] # word variance\n",
    "\n",
    "# convert column into array\n",
    "mean_cohesion_array = mean_cohesion_column.values\n",
    "match_outcome_array = match_outcome_column.values\n",
    "mean_wpm_array = mean_wpm_column.values\n",
    "dist_communication_array = dist_communication_column.values\n",
    "\n",
    "# need to reshape the independent variables (Step 1)\n",
    "reshaped_mean_cohesion_array = mean_cohesion_array.reshape(-1, 1)\n",
    "reshaped_dist_communication_array = dist_communication_array.reshape(-1, 1)\n",
    "reshaped_mean_wpm_array = mean_wpm_array.reshape(-1, 1)\n",
    "\n",
    "# need to reshape the independent variables (Step 2)\n",
    "# add_constant() takes the array x as the argument and returns a new array with the additional column of ones. \n",
    "reshaped_mean_cohesion_array = sm.add_constant(reshaped_mean_cohesion_array)\n",
    "reshaped_dist_communication_array = sm.add_constant(dist_communication_array)\n",
    "reshaped_mean_wpm_array = sm.add_constant(reshaped_mean_wpm_array)\n",
    "\n",
    "\n"
   ]
  },
  {
   "cell_type": "raw",
   "id": "14d0e2b2-f56e-4c4d-bbd5-84ca1b04d28a",
   "metadata": {
    "jupyter": {
     "outputs_hidden": true
    },
    "tags": []
   },
   "source": [
    "# if you want to see what the array currently looks like with additional column of ones\n",
    "print(\"x: \", reshaped_mean_cohesion_array)\n",
    "print(\"y : \", match_outcome_array)"
   ]
  },
  {
   "cell_type": "code",
   "execution_count": null,
   "id": "edd2f843-19da-4959-aded-e1aba1f9ddc7",
   "metadata": {},
   "outputs": [],
   "source": [
    "# create your model\n",
    "model_cohesion_outcome = sm.Logit(match_outcome_array, reshaped_mean_cohesion_array)\n",
    "\n",
    "model_communication_outcome = sm.Logit(match_outcome_array, reshaped_mean_wpm_array)\n",
    "\n"
   ]
  },
  {
   "cell_type": "code",
   "execution_count": null,
   "id": "662c8ea5-512d-481f-aa1a-347a364011ed",
   "metadata": {},
   "outputs": [],
   "source": [
    "# ‘Iterations‘ refer to the number of times the model iterates over the data, trying to optimise the model. \n",
    "# By default, the maximum number of iterations performed is 35, after which the optimisation fails\n",
    "# from https://www.geeksforgeeks.org/logistic-regression-using-statsmodels/\n",
    "\n",
    "# fit with existing data\n",
    "result_cohesion_outcome = model_cohesion_outcome.fit(method='newton')\n",
    "\n",
    "result_communication_outcome = model_communication_outcome.fit(method='newton')"
   ]
  },
  {
   "cell_type": "code",
   "execution_count": null,
   "id": "58dbf567-1ed7-482e-8eb6-3b2126ebd6a2",
   "metadata": {},
   "outputs": [],
   "source": [
    "# get the values of the intercept and coefficient \n",
    "# remember b0 is intercept, b1(or n) is coefficient/slope\n",
    "model_results_cohesion_outcome = result_cohesion_outcome.params # cohesion\n",
    "print(\"intercept: \", model_results_cohesion_outcome[0])\n",
    "print(\"coef: \", model_results_cohesion_outcome[1])"
   ]
  },
  {
   "cell_type": "code",
   "execution_count": null,
   "id": "0626c973-bc2f-415f-be21-c902704a5d71",
   "metadata": {},
   "outputs": [],
   "source": [
    "model_results_communication_outcome = result_communication_outcome.params # communication\n",
    "print(\"intercept: \", model_results_communication_outcome[0])\n",
    "print(\"coef: \", model_results_communication_outcome[1])"
   ]
  },
  {
   "cell_type": "markdown",
   "id": "bf15f289-361d-4dd0-b75e-c9cdf2521add",
   "metadata": {},
   "source": [
    "_cohesion-outcome_"
   ]
  },
  {
   "cell_type": "code",
   "execution_count": null,
   "id": "45c6e8b3-24d7-4974-a985-466cb5e1bb6a",
   "metadata": {},
   "outputs": [],
   "source": [
    "\n",
    "# evaluate the model\n",
    "# use *result* to obtain the probabilities of the predicted outputs being equal to one\n",
    "print(\"probabilities: \", result_cohesion_outcome.predict(reshaped_mean_cohesion_array))\n",
    "\n",
    "print(\"\\n\") # new line for easier readability\n",
    "\n",
    "# you can use the values from .predict() to get the actual predicted outputs\n",
    "print(\"predicted actual outputs: \", (result_cohesion_outcome.predict(reshaped_mean_cohesion_array) >= 0.5).astype(int))\n"
   ]
  },
  {
   "cell_type": "code",
   "execution_count": null,
   "id": "6c6bc5c7-279b-4af2-b877-6d5d23d77b06",
   "metadata": {},
   "outputs": [],
   "source": [
    "result_cohesion_outcome.summary()\n"
   ]
  },
  {
   "cell_type": "code",
   "execution_count": null,
   "id": "7f6cc290-5d38-43be-9b3c-5ef601207839",
   "metadata": {},
   "outputs": [],
   "source": [
    "# convert log odds to odds ratio for easier interpretation\n",
    "cohesion_outcome_model_odds = pd.DataFrame(np.exp(result_cohesion_outcome.params), columns= ['OR'])\n",
    "cohesion_outcome_model_odds['z-value']= result_cohesion_outcome.pvalues\n",
    "cohesion_outcome_model_odds[['2.5%', '97.5%']] = np.exp(result_cohesion_outcome.conf_int())\n",
    "\n",
    "cohesion_outcome_model_odds"
   ]
  },
  {
   "cell_type": "markdown",
   "id": "e9a1e0c6-6883-4aba-9012-f38df7c6dcf0",
   "metadata": {},
   "source": [
    "_communication-outcome_"
   ]
  },
  {
   "cell_type": "code",
   "execution_count": null,
   "id": "469bf667-4c3f-4981-a51c-e0e23da71a6b",
   "metadata": {},
   "outputs": [],
   "source": [
    "# evaluate the model\n",
    "# use *result* to obtain the probabilities of the predicted outputs being equal to one\n",
    "print(\"probabilities: \", result_communication_outcome.predict(reshaped_mean_wpm_array))\n",
    "\n",
    "print(\"\\n\") # new line for easier readability\n",
    "\n",
    "# you can use the values from .predict() to get the actual predicted outputs\n",
    "print(\"predicted actual outputs: \", (result_communication_outcome.predict(reshaped_mean_wpm_array) >= 0.5).astype(int))"
   ]
  },
  {
   "cell_type": "markdown",
   "id": "38aa62dd-7292-4726-9ab9-cd0f5ce81e95",
   "metadata": {},
   "source": [
    "#### get some summary stats on the logistic regression model \n",
    "- coef : the coefficients of the independent variables in the regression equation. \n",
    "- Log-Likelihood : the natural logarithm of the Maximum Likelihood Estimation(MLE) function. MLE is the optimisation process of finding the set of parameters which result in best fit.\n",
    "- LL-Null : the value of log-likelihood of the model when no independent variable is included(only an intercept is included).\n",
    "- Pseudo R-squ. : a substitute for the R-squared value in Least Squares linear regression. It is the ratio of the log-likelihood of the null model to that of the full model.\n",
    "- https://www.geeksforgeeks.org/logistic-regression-using-statsmodels/"
   ]
  },
  {
   "cell_type": "markdown",
   "id": "e2de3040-f41f-499c-8d73-88745db33a0d",
   "metadata": {},
   "source": [
    "__question__: what is the difference between summary and summary2?"
   ]
  },
  {
   "cell_type": "code",
   "execution_count": null,
   "id": "beb39ccb-e3bd-4223-999c-c45ee9ef8a40",
   "metadata": {},
   "outputs": [],
   "source": [
    "result_communication_outcome.summary()"
   ]
  },
  {
   "cell_type": "code",
   "execution_count": null,
   "id": "dbfdd82e-b9b7-41da-b0b0-b6607e03961f",
   "metadata": {},
   "outputs": [],
   "source": [
    "# convert log odds to odds ratio for easier interpretation\n",
    "communication_outcome_model_odds = pd.DataFrame(np.exp(result_communication_outcome.params), columns= ['OR'])\n",
    "communication_outcome_model_odds['z-value']= result_communication_outcome.pvalues\n",
    "communication_outcome_model_odds[['2.5%', '97.5%']] = np.exp(result_communication_outcome.conf_int())\n",
    "\n",
    "communication_outcome_model_odds"
   ]
  },
  {
   "cell_type": "code",
   "execution_count": null,
   "id": "11da8500-73e1-466e-8fc6-a509ad0c3b11",
   "metadata": {},
   "outputs": [],
   "source": []
  }
 ],
 "metadata": {
  "kernelspec": {
   "display_name": "Python 3",
   "language": "python",
   "name": "python3"
  },
  "language_info": {
   "codemirror_mode": {
    "name": "ipython",
    "version": 3
   },
   "file_extension": ".py",
   "mimetype": "text/x-python",
   "name": "python",
   "nbconvert_exporter": "python",
   "pygments_lexer": "ipython3",
   "version": "3.9.5"
  }
 },
 "nbformat": 4,
 "nbformat_minor": 5
}
