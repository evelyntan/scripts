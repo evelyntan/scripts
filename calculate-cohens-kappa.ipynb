{
 "cells": [
  {
   "cell_type": "markdown",
   "id": "9be131d8-3062-4bc1-8da8-fb3f8c8e9a4f",
   "metadata": {},
   "source": [
    "# This script calculates cohens kapppa\n",
    "- step 1: load csv as dataframe\n",
    "- step 2: extract rater-1 column and rater-2 column as separate arrays\n",
    "- step 3: run cohens\n",
    "\n",
    "to do: upload all coded csv files in the correct format to folder\n"
   ]
  },
  {
   "cell_type": "markdown",
   "id": "dc288db3-64a9-4423-afa0-5296ee886302",
   "metadata": {},
   "source": [
    "## Function to calculate cohens kappa"
   ]
  },
  {
   "cell_type": "code",
   "execution_count": 59,
   "id": "7512a29b-efc7-471c-a5ac-0421105c23d0",
   "metadata": {},
   "outputs": [],
   "source": [
    "def calculate_cohens_kappa(filename_of_coded_transcripts_in_csv): \n",
    "\n",
    "    import pandas as pd\n",
    "    import sklearn.metrics\n",
    "\n",
    "    coded_transcripts_df = pd.read_csv(filename_of_coded_transcripts_in_csv)\n",
    "    \n",
    "    # get columns of rater 1 and 2\n",
    "    rater_1_column = coded_transcripts_df.iloc[:, [4]]\n",
    "    rater_2_column = coded_transcripts_df.iloc[:, [5]]\n",
    "\n",
    "    # then get ratings of rater 1 and 2 as arrays\n",
    "    rater_1_ratings = rater_1_column.values\n",
    "    rater_2_ratings = rater_2_column.values\n",
    "    \n",
    "    # calculate cohens kappa using sklearn\n",
    "    kappa = sklearn.metrics.cohen_kappa_score(rater_1_ratings, rater_2_ratings, labels = None, weights = None)\n",
    "    \n",
    "    # extract the team number\n",
    "    split_file_name_into_content = filename_of_coded_transcripts_in_csv.split(\"\\\\\")\n",
    "    team_number = split_file_name_into_content[5][:-4].split(\"[\")[1][:-1]\n",
    "\n",
    "    \n",
    "    print(\"team number = \", team_number, \" \", \"cohen's kappa =\", kappa)\n",
    "    \n",
    "    return\n",
    "    \n",
    "# coded_transcripts_df = pd.read_csv(r'D:\\Projects\\UG-league-project\\data\\coded-transcripts\\team-[5].csv')"
   ]
  },
  {
   "cell_type": "markdown",
   "id": "2c48fd22-c720-47f0-b307-30f9837f877b",
   "metadata": {},
   "source": [
    "# Run the function over all files in the directory"
   ]
  },
  {
   "cell_type": "code",
   "execution_count": 58,
   "id": "ec5608c2-20dd-46f6-af4d-59530f91addc",
   "metadata": {},
   "outputs": [
    {
     "name": "stdout",
     "output_type": "stream",
     "text": [
      "['D:\\\\Projects\\\\UG-league-project\\\\data\\\\coded-transcripts\\\\team-[15].csv', 'D:\\\\Projects\\\\UG-league-project\\\\data\\\\coded-transcripts\\\\team-[16].csv', 'D:\\\\Projects\\\\UG-league-project\\\\data\\\\coded-transcripts\\\\team-[19].csv', 'D:\\\\Projects\\\\UG-league-project\\\\data\\\\coded-transcripts\\\\team-[34].csv', 'D:\\\\Projects\\\\UG-league-project\\\\data\\\\coded-transcripts\\\\team-[5].csv', 'D:\\\\Projects\\\\UG-league-project\\\\data\\\\coded-transcripts\\\\team-[7].csv']\n",
      "team number =  15   cohen's kappa = 0.7789807470043761\n",
      "team number =  16   cohen's kappa = 0.9319795420703942\n",
      "team number =  19   cohen's kappa = 0.8696308724832215\n",
      "team number =  34   cohen's kappa = 0.902559539142449\n",
      "team number =  5   cohen's kappa = 0.8909646294828687\n",
      "team number =  7   cohen's kappa = 0.8975316513343656\n"
     ]
    }
   ],
   "source": [
    "import glob\n",
    "\n",
    "# go through the files in the directory\n",
    "coded_transcripts_in_csv = glob.glob(r'D:\\Projects\\UG-league-project\\data\\coded-transcripts\\*.csv')\n",
    "print(coded_transcripts_in_csv)\n",
    "\n",
    "# for each file, calculate the cohens kappa\n",
    "for file in coded_transcripts_in_csv:\n",
    "    calculate_cohens_kappa(file)"
   ]
  },
  {
   "cell_type": "markdown",
   "id": "82afb078-418c-4953-99d0-5ba4ee9fa582",
   "metadata": {},
   "source": [
    "# Everything below is a dump --> a step by step reminder of how you built the function"
   ]
  },
  {
   "cell_type": "code",
   "execution_count": 3,
   "id": "5a43fde2-ad85-4e78-823e-8a2fbc2307a2",
   "metadata": {},
   "outputs": [],
   "source": [
    "import pandas as pd\n",
    "import sklearn.metrics\n",
    "\n",
    "coded_transcripts_df = pd.read_csv(r'D:\\Projects\\UG-league-project\\data\\coded-transcripts\\team-[5].csv')\n"
   ]
  },
  {
   "cell_type": "code",
   "execution_count": 4,
   "id": "b3f4fe5c-5369-4d9b-98cf-5441368869d6",
   "metadata": {},
   "outputs": [],
   "source": [
    "# get columns of rater 1 and 2\n",
    "rater_1_column = coded_transcripts_df.iloc[:, [4]]\n",
    "rater_2_column = coded_transcripts_df.iloc[:, [5]]\n",
    "\n",
    "# then get ratings of rater 1 and 2 as arrays\n",
    "rater_1_ratings = rater_1_column.values\n",
    "rater_2_ratings = rater_2_column.values"
   ]
  },
  {
   "cell_type": "code",
   "execution_count": 5,
   "id": "a57940a3-ffb0-4ab3-aa30-1c1bd14cd68d",
   "metadata": {},
   "outputs": [],
   "source": [
    "# calculate cohens kappa using sklearn\n",
    "\n",
    "kappa = sklearn.metrics.cohen_kappa_score(rater_1_ratings, rater_2_ratings, labels = None, weights = None)"
   ]
  },
  {
   "cell_type": "code",
   "execution_count": 6,
   "id": "b474c296-2a08-4a37-a17c-0776a45dbe4e",
   "metadata": {},
   "outputs": [
    {
     "name": "stdout",
     "output_type": "stream",
     "text": [
      "cohen's kappa = 0.8909646294828687\n"
     ]
    }
   ],
   "source": [
    "print(\"cohen's kappa =\", kappa)"
   ]
  },
  {
   "cell_type": "code",
   "execution_count": 56,
   "id": "1013b02a-913a-4378-a5de-e04171103b9c",
   "metadata": {},
   "outputs": [
    {
     "name": "stdout",
     "output_type": "stream",
     "text": [
      "45\n"
     ]
    }
   ],
   "source": [
    "# get team number\n",
    "full_file_name = r'D:\\Projects\\UG-league-project\\data\\coded-transcripts\\team-[45].csv'\n",
    "split_file_name_into_content = full_file_name.split(\"\\\\\")\n",
    "get_team_number = split_file_name_into_content[5][:-4].split(\"[\")[1][:-1]\n",
    "print(get_team_number)\n",
    "\n",
    "\n"
   ]
  },
  {
   "cell_type": "code",
   "execution_count": null,
   "id": "b950c7f3-f50f-41ef-8ea1-4c522765ff06",
   "metadata": {},
   "outputs": [],
   "source": []
  },
  {
   "cell_type": "code",
   "execution_count": null,
   "id": "7ed67d53-b674-42d4-9ef4-86869378db43",
   "metadata": {},
   "outputs": [],
   "source": []
  }
 ],
 "metadata": {
  "kernelspec": {
   "display_name": "Python 3",
   "language": "python",
   "name": "python3"
  },
  "language_info": {
   "codemirror_mode": {
    "name": "ipython",
    "version": 3
   },
   "file_extension": ".py",
   "mimetype": "text/x-python",
   "name": "python",
   "nbconvert_exporter": "python",
   "pygments_lexer": "ipython3",
   "version": "3.9.5"
  }
 },
 "nbformat": 4,
 "nbformat_minor": 5
}
